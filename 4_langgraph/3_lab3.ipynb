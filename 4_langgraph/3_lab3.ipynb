{
 "cells": [
  {
   "cell_type": "markdown",
   "metadata": {},
   "source": [
    "## Welcome to Week 4, Day 4\n",
    "\n",
    "This is the start of an AWESOME project! Really simple and very effective."
   ]
  },
  {
   "cell_type": "code",
   "execution_count": 1,
   "metadata": {},
   "outputs": [],
   "source": [
    "from typing import Annotated\n",
    "from typing_extensions import TypedDict\n",
    "from langgraph.graph import StateGraph, START\n",
    "from langgraph.graph.message import add_messages\n",
    "from dotenv import load_dotenv\n",
    "from IPython.display import Image, display\n",
    "import gradio as gr\n",
    "from langgraph.prebuilt import ToolNode, tools_condition\n",
    "import requests\n",
    "import os\n",
    "from langchain.agents import Tool\n",
    "\n",
    "from langchain_openai import ChatOpenAI\n",
    "from langgraph.checkpoint.memory import MemorySaver"
   ]
  },
  {
   "cell_type": "code",
   "execution_count": 2,
   "metadata": {},
   "outputs": [
    {
     "data": {
      "text/plain": [
       "True"
      ]
     },
     "execution_count": 2,
     "metadata": {},
     "output_type": "execute_result"
    }
   ],
   "source": [
    "load_dotenv(override=True)"
   ]
  },
  {
   "cell_type": "markdown",
   "metadata": {},
   "source": [
    "### Asynchronous LangGraph\n",
    "\n",
    "To run a tool:  \n",
    "Sync: `tool.run(inputs)`  \n",
    "Async: `await tool.arun(inputs)`\n",
    "\n",
    "To invoke the graph:  \n",
    "Sync: `graph.invoke(state)`  \n",
    "Async: `await graph.ainvoke(state)`"
   ]
  },
  {
   "cell_type": "code",
   "execution_count": 3,
   "metadata": {},
   "outputs": [],
   "source": [
    "class State(TypedDict):\n",
    "    \n",
    "    messages: Annotated[list, add_messages]\n",
    "\n",
    "graph_builder = StateGraph(State)"
   ]
  },
  {
   "cell_type": "code",
   "execution_count": 4,
   "metadata": {},
   "outputs": [],
   "source": [
    "pushover_token = os.getenv(\"PUSHOVER_TOKEN\")\n",
    "pushover_user = os.getenv(\"PUSHOVER_USER\")\n",
    "pushover_url = \"https://api.pushover.net/1/messages.json\"\n",
    "\n",
    "def push(text: str):\n",
    "    \"\"\"Send a push notification to the user\"\"\"\n",
    "    requests.post(pushover_url, data = {\"token\": pushover_token, \"user\": pushover_user, \"message\": text})\n",
    "\n",
    "tool_push = Tool(\n",
    "        name=\"send_push_notification\",\n",
    "        func=push,\n",
    "        description=\"useful for when you want to send a push notification\"\n",
    "    )"
   ]
  },
  {
   "cell_type": "markdown",
   "metadata": {},
   "source": [
    "## Extra installation step - if you don't have Node and Playwright on your computer\n",
    "\n",
    "Next, you need to install NodeJS and Playwright on your computer if you don't already have them. Please see instructions here:\n",
    "\n",
    "[Node and Playwright setup](../setup/SETUP-node.md)"
   ]
  },
  {
   "cell_type": "markdown",
   "metadata": {},
   "source": [
    "## And now - after Installing Playwright, a heads up for Windows PC Users:\n",
    "\n",
    "While executing the next few cells, you might hit a problem with the Playwright browser raising a NotImplementedError.\n",
    "\n",
    "This should work when we move to python modules, but it can cause problems in Windows in a notebook.\n",
    "\n",
    "If you it this error and would like to run the notebook, you need to make a small change which seems quite hacky! You need to do this AFTER installing Playwright (prior cells)\n",
    "\n",
    "1. Right click in `.venv` in the File Explorer on the left and select \"Find in folder\"\n",
    "2. Search for `asyncio.set_event_loop_policy(WindowsSelectorEventLoopPolicy())`  \n",
    "3. That code should be found in a line of code in a file called `kernelapp.py`\n",
    "4. Comment out the entire else clause that this line is a part of - see the fragment below. Be sure to have the \"pass\" statement after the ImportError line.\n",
    "5. Restart the kernel by pressing the \"Restart\" button above\n",
    "\n",
    "```python\n",
    "        if sys.platform.startswith(\"win\") and sys.version_info >= (3, 8):\n",
    "            import asyncio\n",
    " \n",
    "            try:\n",
    "                from asyncio import WindowsProactorEventLoopPolicy, WindowsSelectorEventLoopPolicy\n",
    "            except ImportError:\n",
    "                pass\n",
    "                # not affected\n",
    "           # else:\n",
    "            #    if type(asyncio.get_event_loop_policy()) is WindowsProactorEventLoopPolicy:\n",
    "                    # WindowsProactorEventLoopPolicy is not compatible with tornado 6\n",
    "                    # fallback to the pre-3.8 default of Selector\n",
    "                    # asyncio.set_event_loop_policy(WindowsSelectorEventLoopPolicy())\n",
    "```\n",
    "\n",
    "Thank you to student Nicolas for finding this, and to Kalyan, Yaki, Zibin and Bhaskar for confirming that this worked for them! And to Vladislav for the extra pointers.\n",
    "\n",
    "As an alternative, you can just move to a Python module (which we do anyway in Day 5)"
   ]
  },
  {
   "cell_type": "code",
   "execution_count": 5,
   "metadata": {},
   "outputs": [],
   "source": [
    "# Introducing nest_asyncio\n",
    "# Python async code only allows for one \"event loop\" processing aynchronous events.\n",
    "# The `nest_asyncio` library patches this, and is used for special situations, if you need to run a nested event loop.\n",
    "\n",
    "import nest_asyncio\n",
    "nest_asyncio.apply()"
   ]
  },
  {
   "cell_type": "markdown",
   "metadata": {},
   "source": [
    "### The LangChain community\n",
    "\n",
    "One of the remarkable things about LangChain is the rich community around it.\n",
    "\n",
    "Check this out:\n"
   ]
  },
  {
   "cell_type": "code",
   "execution_count": 6,
   "metadata": {},
   "outputs": [],
   "source": [
    "from langchain_community.agent_toolkits import PlayWrightBrowserToolkit\n",
    "from langchain_community.tools.playwright.utils import create_async_playwright_browser\n",
    "\n",
    "# If you get a NotImplementedError here or later, see the Heads Up at the top of the notebook\n",
    "\n",
    "async_browser =  create_async_playwright_browser(headless=False)  # headful mode\n",
    "toolkit = PlayWrightBrowserToolkit.from_browser(async_browser=async_browser)\n",
    "tools = toolkit.get_tools()"
   ]
  },
  {
   "cell_type": "code",
   "execution_count": 7,
   "metadata": {},
   "outputs": [
    {
     "name": "stdout",
     "output_type": "stream",
     "text": [
      "click_element=async_browser=<Browser type=<BrowserType name=chromium executable_path=C:\\Users\\yuvalz\\AppData\\Local\\ms-playwright\\chromium-1169\\chrome-win\\chrome.exe> version=136.0.7103.25>\n",
      "navigate_browser=async_browser=<Browser type=<BrowserType name=chromium executable_path=C:\\Users\\yuvalz\\AppData\\Local\\ms-playwright\\chromium-1169\\chrome-win\\chrome.exe> version=136.0.7103.25>\n",
      "previous_webpage=async_browser=<Browser type=<BrowserType name=chromium executable_path=C:\\Users\\yuvalz\\AppData\\Local\\ms-playwright\\chromium-1169\\chrome-win\\chrome.exe> version=136.0.7103.25>\n",
      "extract_text=async_browser=<Browser type=<BrowserType name=chromium executable_path=C:\\Users\\yuvalz\\AppData\\Local\\ms-playwright\\chromium-1169\\chrome-win\\chrome.exe> version=136.0.7103.25>\n",
      "extract_hyperlinks=async_browser=<Browser type=<BrowserType name=chromium executable_path=C:\\Users\\yuvalz\\AppData\\Local\\ms-playwright\\chromium-1169\\chrome-win\\chrome.exe> version=136.0.7103.25>\n",
      "get_elements=async_browser=<Browser type=<BrowserType name=chromium executable_path=C:\\Users\\yuvalz\\AppData\\Local\\ms-playwright\\chromium-1169\\chrome-win\\chrome.exe> version=136.0.7103.25>\n",
      "current_webpage=async_browser=<Browser type=<BrowserType name=chromium executable_path=C:\\Users\\yuvalz\\AppData\\Local\\ms-playwright\\chromium-1169\\chrome-win\\chrome.exe> version=136.0.7103.25>\n"
     ]
    }
   ],
   "source": [
    "for tool in tools:\n",
    "    print(f\"{tool.name}={tool}\")"
   ]
  },
  {
   "cell_type": "markdown",
   "metadata": {},
   "source": [
    "LangGraph & LangChain מגיעות עם מגוון **tools מוכנים מראש**.<br>\n",
    "Playwright נכלל בחלקם, ויש שני סוגים של כלים:\n",
    "1. גרסה פשוטה יותר (High-level)\n",
    "2. גרסה מפורטת יותר – **Playwright Browser Toolkit**, שמעניקה שליטה מדויקת על כל פעולה.\n",
    "\n",
    "ה־ toolkit הזה כולל כלים כמו:\n",
    "* ניווט לדף (`navigate`)\n",
    "* חזרה אחורה (`go_back`)\n",
    "* לחיצה על אלמנט (`click_element`)\n",
    "* חילוץ טקסט (`extract_text`)\n",
    "* שליפת לינקים (`extract_hyperlinks`)\n",
    "* שליפת אלמנטים (`get_elements`)\n",
    "* בדיקת הדף הנוכחי (`get_current_page`)\n",
    "\n",
    "המשמעות:<br>\n",
    "אפשר לבנות **agent שיודע לתפעל דפדפן אמיתי** - להיכנס לאתרים, ללחוץ, לקרוא טקסטים, לאסוף מידע וכו.<br>\n",
    "כל זה בצורה אסינכרונית באמצעות LangGraph!"
   ]
  },
  {
   "cell_type": "code",
   "execution_count": 9,
   "metadata": {},
   "outputs": [],
   "source": [
    "# Dictionary : key = tool name, val = the tool itself\n",
    "# {\n",
    "#    \"navigate\": navigate,\n",
    "#    \"extract_text\": extract_text,\n",
    "#    \"click\": click\n",
    "# }\n",
    "\n",
    "tool_dict = {tool.name:tool for tool in tools}\n",
    "\n",
    "navigate_tool = tool_dict.get(\"navigate_browser\")\n",
    "extract_text_tool = tool_dict.get(\"extract_text\")\n",
    "\n",
    "# Running the actual automatic browser  \n",
    "# It's simply using Playwright with the LangChain toolkit to control the browser asynchronously.  \n",
    "await navigate_tool.arun({\"url\": \"https://www.cnn.com\"}) # Open the web CNN\n",
    "text = await extract_text_tool.arun({}) # Extracts text from the page"
   ]
  },
  {
   "cell_type": "code",
   "execution_count": 10,
   "metadata": {},
   "outputs": [
    {
     "name": "stdout",
     "output_type": "stream",
     "text": [
      "Breaking News, Latest News and Videos | CNN CNN values your feedback\n",
      "1. How relevant is this ad to you? 2. Did you encounter any technical\n",
      "issues? No Video player was slow to load content Video content never\n",
      "loaded Ad froze or did not finish loading Video content did not start\n",
      "after ad Audio on ad was too loud Other issues Ad never loaded Ad\n",
      "prevented/slowed the page from loading Content moved around while ad\n",
      "loaded Ad was repetitive to ads I've seen previously Other issues\n",
      "Cancel Submit Thank You! Your effort and contribution in providing\n",
      "this feedback is much\n",
      "appreciated. Close Ad Feedback Close icon US World Politics Business\n",
      "Health Entertainment Style Travel Sports Science Climate Weather\n",
      "Ukraine-Russia War Israel-Hamas War Games More US World Politics\n",
      "Business Health Entertainment Style Travel Sports Science Climate\n",
      "Weather Ukraine-Russia War Israel-Hamas War Games Watch Listen Live TV\n",
      "Subscribe Sign in My Account Settings Newsletters Topics you follow\n",
      "Sign out Your CNN account Sign in to your CNN account Sign in My\n",
      "Account Settings Newsletters Topics you follow Sign out Your CNN\n",
      "account Sign in to your CNN account Live TV Listen Watch Edition US\n",
      "International Arabic Español Edition US International Arabic Español\n",
      "World Africa Americas Asia Australia China Europe India Middle East\n",
      "United Kingdom US Politics Trump Facts First CNN Polls 2025 Elections\n",
      "Business Tech Media Calculators Videos Markets Pre-markets After-Hours\n",
      "Fear & Greed Investing Markets Now Nightcap Health Life, But Better\n",
      "Fitness Food Sleep Mindfulness Relationships Entertainment Movies\n",
      "Television Celebrity Tech Innovate Foreseeable Future Mission: Ahead\n",
      "Work Transformed Innovative Cities Style Arts Design Fashion\n",
      "Architecture Luxury Beauty Video Travel Destinations Food & Drink Stay\n",
      "News Videos Sports Football Tennis Golf Motorsport US Sports Olympics\n",
      "Climbing Esports Hockey Science Space Life Unearthed Climate Solutions\n",
      "Weather Weather Video Climate Ukraine-Russia War Israel-Hamas War\n",
      "Features As Equals Call to Earth Freedom Project Impact Your World\n",
      "Inside Africa CNN Heroes Watch Live TV CNN Fast Shows A-Z CNN10 CNN\n",
      "Max CNN TV Schedules Listen CNN 5 Things Chasing Life with Dr. Sanjay\n",
      "Gupta The Assignment with Audie Cornish One Thing Tug of War CNN\n",
      "Political Briefing The Axe Files All There Is with Anderson Cooper All\n",
      "CNN Audio podcasts Games Daily Crossword Jumble Crossword Photo\n",
      "Shuffle Sudoblock Sudoku 5 Things Quiz About CNN Photos Investigations\n",
      "CNN Profiles CNN Leadership CNN Newsletters Work for CNN Follow CNN\n",
      "Gaza ceasefire US-Qatar ties Traveling to the EU Who is Sanae\n",
      "Takaichi? Stephen Miller Centuries-old sandal Riyadh Comedy Festival\n",
      "Moving to Tuscany VCG/AP What are rare earth minerals, and why are\n",
      "they central to Trump’s threats against China? Trump announces 130%\n",
      "tariffs on China. The global trade war just came roaring back Why is\n",
      "Nvidia, the world’s leading AI chipmaker, entangled in the US-China\n",
      "trade war? • Analysis Analysis Getty Images Analysis Ukraine’s allies\n",
      "want to make war costlier for Russia Palestinians return to the ruins\n",
      "of Gaza City Show all • Live Updates Live Updates Reuters, Getty\n",
      "Images, AP Live Updates As thousands of displaced people return home,\n",
      "the release of hostages held by Hamas could happen overnight Sunday\n",
      "into Monday, source says Trump says hostages being retrieved ‘now’ as\n",
      "aid trucks start entering Gaza Video Video shows Palestinians return\n",
      "home to rubble after ceasefire 1:54 Who are the hostages still in\n",
      "Gaza, and who has been freed? Zohran Mamdani opens the door to\n",
      "praising Trump for Israel-Hamas deal Play Catch up on today's global\n",
      "news • Source: CNN Video Catch up on today’s global news • Essay Essay\n",
      "Photo Illustration by Jason Lancaster/CNN/Getty Images Essay After\n",
      "years of progress on gender, the male gaze is back Larry MacDougal/AP\n",
      "The only airline in North America to serve free alcohol in economy on\n",
      "all flights • Video 1:00 Kensington Palace via Reuters Video As widow\n",
      "talks about husband’s suicide, Prince William fights back tears 1:00\n",
      "Ad Feedback More top stories • Live Updates Live Updates Andrew\n",
      "Caballero-Reynolds/AFP/Getty Images Live Updates White House says\n",
      "federal firings have begun as government shutdown drags on Stephen\n",
      "Miller takes center stage in Trump’s crime and military crackdown\n",
      "Video Federal agents detain a Chicago TV station employee 1:11 At\n",
      "least 60 killed in attack on Sudan’s Al-Fashir, activists say An\n",
      "emboldened Kim Jong Un shows off North Korea’s new hypersonic weapon,\n",
      "ICBM A massive blast at a Tennessee explosives plant obliterated a\n",
      "building and left 18 people missing. Here’s what we know US announces\n",
      "it will allow Qatar to build an Air Force facility in Idaho Weekend\n",
      "reads Courtesy of Sanae Takichi The woman set to lead Japan is a heavy\n",
      "metal fan with firm views on foreigners Evelyn Hockstein/Reuters\n",
      "Analysis Trump’s free speech back flip was 250 years in the making Oct\n",
      "11, 2025 Arthur Tsang/Reuters Gallery The stories behind some of the\n",
      "defining photos of the last 40 years Oct 11, 2025 Ad Feedback Nobel\n",
      "prize Shawn Thew/EPA/Bloomberg/Getty Images Trump speaks with Nobel\n",
      "Peace Prize winner Machado after his administration denounced the\n",
      "decision to award it to her • Video 4:21 CNN Video Nobel Peace Prize\n",
      "Chair responds to White House criticism after Trump does not win 4:21\n",
      "Ad Feedback Travel & beyond Juan Medina/Reuters Traveling to the\n",
      "European Union is about to get more complicated. Here’s what you need\n",
      "to know Simona Murrone/Archaeological Park of the Colosseum A secret\n",
      "tunnel once used by emperors is opening beneath the Colosseum\n",
      "Francesco Guarguaglini Want to move to Tuscany? This picturesque\n",
      "village is paying people $23,000 to move there Ad Feedback Art & style\n",
      "Yannis Drakoulidis/Amazon MGM Studios Dressing a professor in crisis:\n",
      "The designer behind Julia Roberts’ outfits in Luca Guadagnino’s new\n",
      "film Alex Trebus She had never designed a building in New York. Now,\n",
      "her mark on the city will be historic • Gallery Gallery Cha Gonzalez\n",
      "for CNN Gallery In Paris, an alternate view of fashion week US\n",
      "Politics Charly Triballeau/AFP/Getty Images/File Obama’s warnings\n",
      "about democracy fading sound increasingly directed toward the US\n",
      "Michael M. Santiago/Getty Images Letitia James sees a record\n",
      "fundraising surge and Democratic support after indictment • Fact Check\n",
      "Fact Check Evan Vucci/AP/File Fact Check Trump’s ‘$17 trillion’\n",
      "investment figure is fiction Ad Feedback Sports Show all • Analysis\n",
      "Analysis Jeff Chiu/AP Analysis ‘It happens at every game’: Why the\n",
      "stands at sporting events can sometimes feel like battlegrounds\n",
      "Seattle Mariners reach ALCS for first time in 24 years after 15-inning\n",
      "classic Crime & Courts CNN The women of an Oregon suburb have said for\n",
      "years their family doctor abused them. Now he’s facing criminal\n",
      "charges Luigi Mangione’s lawyers seek dismissal of federal charges in\n",
      "assassination of UnitedHealthcare CEO Climate Leigh Tait/Earth\n",
      "Sciences NZ Scientists discovered something alarming seeping out from\n",
      "beneath the ocean Arctic seals face extinction and birds in decline\n",
      "globally, according to new Red List Ad Feedback Business & tech •\n",
      "Analysis Analysis d3sign/Moment RF/Getty Images Analysis The next era\n",
      "of social media is coming. And it’s messy so far Celebrities &\n",
      "entertainment • Video 0:49 @drew_wintjen Video Social media videos\n",
      "show concertgoer grabbing Billie Eilish 0:49 Science Sergio Couto\n",
      "Vulture nests in Spain reveal a centuries-old sandal and other\n",
      "stunning cultural artifacts Must-watch videos Latest videos • Video\n",
      "1:26 Obama Foundation Video Obama warns against authoritarianism 1:26\n",
      "• Video 0:30 Reuters Video Heavy rains in Mexico trigger intense\n",
      "flooding 0:30 • Video 1:44 CNN Video Exclusive: DHS sought to block\n",
      "FEMA funds to Muslim groups 1:44 • Video 1:38 Laura Chinchilla Video\n",
      "Former Latin American presidents react to Machado winning Nobel Peace\n",
      "Prize 1:38 • Video 1:40 CNN Video How a jade cabbage became museum’s\n",
      "star attraction 1:40 • Video 1:11 Josh Thomas Video Federal agents\n",
      "detain a Chicago TV station employee 1:11 • Video 0:49 @drew_wintjen\n",
      "Video Social media videos show concertgoer grabbing Billie Eilish 0:49\n",
      "• Video 1:17 Getty Images Video Hegseth announces Qatar to build Air\n",
      "Force facility in Idaho 1:17 • Video 1:00 getty images Video Trump\n",
      "announces new 100% tariff on China, escalating trade war 1:00 • Video\n",
      "0:18 Redes Sociales Video Science fair explosion injures 17 in\n",
      "Argentina 0:18 • Video 1:33 CNN Video Collins asks Mamdani if Trump\n",
      "deserves credit for Gaza ceasefire 1:33 • Video 0:40 Google Earth/WTVF\n",
      "Video 19 people dead or missing after massive blast in Tennessee 0:40\n",
      "• Video 1:54 cnn Video Video shows Palestinians return home to rubble\n",
      "after ceasefire 1:54 • Video 0:26 Jonathan Petramala/ WXChasing Video\n",
      "Major storm floods streets in Charleston 0:26 • Video 0:49 Getty\n",
      "Images Video Trump goes to Walter Reed for second medical exam 0:49 •\n",
      "Video 0:41 POOL Video Melania Trump describes working with Putin on\n",
      "family reunions 0:41 • Video 1:49 Monkey Wrench Films Video Nature\n",
      "rebounds on Ted Turner’s reserve 1:49 • Video 0:53 getty images Video\n",
      "WH budget chief announces firing of federal workers has begun 0:53 •\n",
      "Video 0:32 WTVF Video Deadly explosion at explosives factory 0:32 •\n",
      "Video 2:03 Obtained by CNN Video Thousands of displaced Palestinians\n",
      "return to north 2:03 • Video 0:38 Hart/TMX Video Tampa bus driver\n",
      "saves lost child 0:38 • Video 0:48 CNN Video RFK Jr. suggests link\n",
      "between autism and Tylenol use after circumcision 0:48 • Video 1:48\n",
      "Reuters Video The latest on the ceasefire deal 1:48 • Video 1:06 CNN\n",
      "Video NBA games back in China after six years 1:06 • Video 0:30 Getty\n",
      "Images Video Loyola Chicago’s beloved Sister Jean dies at 106 0:30\n",
      "WHERE EUROPE MEETS ASIA Show all Yasin Akgul/AFP/Getty Images What\n",
      "really happens inside a Turkish bath Barry Neild/CNN The ghost town\n",
      "that has stood empty for more than a century tegmen/iStockphoto/Getty\n",
      "Images The hidden ‘eagle’s nest’ city that Alexander the Great\n",
      "couldn’t conquer Shutterstock Turkish foods: 23 delicious dishes Ad\n",
      "Feedback More from CNN Rodger Bosch/AFP/Getty Images Africa has\n",
      "‘unlimited’ solar potential. Off-grid power could help light up the\n",
      "continent Hungary’s László Krasznahorkai wins Nobel Prize in\n",
      "literature for work confronting ‘apocalyptic terror’ Analysis The Fed\n",
      "still hasn’t defeated high inflation. Has it failed? Dolly Parton, in\n",
      "full glam, puts rumors about her health to rest Video Jackie Kennedy\n",
      "once visited this Cambodian hotel. They’ve kept her cocktail glass for\n",
      "50 years 1:28 How a simple question about American hotels led to ‘the\n",
      "greatest immigration story never told’ ‘I didn’t feel safe, I didn’t\n",
      "feel seen’: Why Nigerian star Tems is clearing a path for African\n",
      "women in music Analysis Yet another OpenAI financial entanglement is\n",
      "renewing fears of a repeat of the dot-com era What life is really like\n",
      "in Italy’s one-euro home town Subscribe Sign in My Account Settings\n",
      "Newsletters Topics you follow Sign out Your CNN account Sign in to\n",
      "your CNN account Live TV Listen Watch World Africa Americas Asia\n",
      "Australia China Europe India Middle East United Kingdom US Politics\n",
      "Trump Facts First CNN Polls 2025 Elections Business Tech Media\n",
      "Calculators Videos Markets Pre-markets After-Hours Fear & Greed\n",
      "Investing Markets Now Nightcap Health Life, But Better Fitness Food\n",
      "Sleep Mindfulness Relationships Entertainment Movies Television\n",
      "Celebrity Tech Innovate Foreseeable Future Mission: Ahead Work\n",
      "Transformed Innovative Cities Style Arts Design Fashion Architecture\n",
      "Luxury Beauty Video Travel Destinations Food & Drink Stay News Videos\n",
      "Sports Football Tennis Golf Motorsport US Sports Olympics Climbing\n",
      "Esports Hockey Science Space Life Unearthed Climate Solutions Weather\n",
      "Weather Video Climate Ukraine-Russia War Israel-Hamas War Features As\n",
      "Equals Call to Earth Freedom Project Impact Your World Inside Africa\n",
      "CNN Heroes Watch Live TV CNN Fast Shows A-Z CNN10 CNN Max CNN TV\n",
      "Schedules Listen CNN 5 Things Chasing Life with Dr. Sanjay Gupta The\n",
      "Assignment with Audie Cornish One Thing Tug of War CNN Political\n",
      "Briefing The Axe Files All There Is with Anderson Cooper All CNN Audio\n",
      "podcasts Games Daily Crossword Jumble Crossword Photo Shuffle\n",
      "Sudoblock Sudoku 5 Things Quiz About CNN Photos Investigations CNN\n",
      "Profiles CNN Leadership CNN Newsletters Work for CNN Watch Listen Live\n",
      "TV Follow CNN Subscribe Sign in My Account Settings Newsletters Topics\n",
      "you follow Sign out Your CNN account Sign in to your CNN account Terms\n",
      "of Use Privacy Policy Manage Cookies Ad Choices Accessibility & CC\n",
      "About Newsletters Transcripts © 2025 Cable News Network. A Warner\n",
      "Bros. Discovery Company. All Rights Reserved. CNN Sans ™ & © 2016\n",
      "Cable News Network. Privacy Policy For privacy options, please see our\n",
      "privacy policy: https://www.cnn.com/privacy . Back Button Cookie List\n",
      "Search Icon Filter Icon Clear checkbox label label Apply Cancel\n",
      "Consent Leg.Interest checkbox label label checkbox label label\n",
      "checkbox label label Close\n"
     ]
    }
   ],
   "source": [
    "import textwrap\n",
    "print(textwrap.fill(text))"
   ]
  },
  {
   "cell_type": "code",
   "execution_count": 11,
   "metadata": {},
   "outputs": [],
   "source": [
    "all_tools = tools + [tool_push]"
   ]
  },
  {
   "cell_type": "code",
   "execution_count": 12,
   "metadata": {},
   "outputs": [],
   "source": [
    "\n",
    "llm = ChatOpenAI(model=\"gpt-4o-mini\")\n",
    "llm_with_tools = llm.bind_tools(all_tools)\n",
    "\n",
    "\n",
    "def chatbot(state: State):\n",
    "    return {\"messages\": [llm_with_tools.invoke(state[\"messages\"])]}\n"
   ]
  },
  {
   "cell_type": "code",
   "execution_count": 15,
   "metadata": {},
   "outputs": [
    {
     "name": "stdout",
     "output_type": "stream",
     "text": [
      "---\n",
      "config:\n",
      "  flowchart:\n",
      "    curve: linear\n",
      "---\n",
      "graph TD;\n",
      "\t__start__([<p>__start__</p>]):::first\n",
      "\tchatbot(chatbot)\n",
      "\ttools(tools)\n",
      "\t__end__([<p>__end__</p>]):::last\n",
      "\t__start__ --> chatbot;\n",
      "\tchatbot -.-> __end__;\n",
      "\tchatbot -.-> tools;\n",
      "\ttools --> chatbot;\n",
      "\tclassDef default fill:#f2f0ff,line-height:1.2\n",
      "\tclassDef first fill-opacity:0\n",
      "\tclassDef last fill:#bfb6fc\n",
      "\n"
     ]
    }
   ],
   "source": [
    "\n",
    "graph_builder = StateGraph(State)\n",
    "graph_builder.add_node(\"chatbot\", chatbot)\n",
    "graph_builder.add_node(\"tools\", ToolNode(tools=all_tools))\n",
    "graph_builder.add_conditional_edges( \"chatbot\", tools_condition, \"tools\")\n",
    "graph_builder.add_edge(\"tools\", \"chatbot\")\n",
    "graph_builder.add_edge(START, \"chatbot\")\n",
    "\n",
    "memory = MemorySaver()\n",
    "graph = graph_builder.compile(checkpointer=memory)\n",
    "# display(Image(graph.get_graph().draw_mermaid_png()))\n",
    "print(graph.get_graph().draw_mermaid())"
   ]
  },
  {
   "cell_type": "markdown",
   "metadata": {},
   "source": [
    "<img src=\"attachments/Screenshot 2025-10-11 133610.png\" width=\"200\">"
   ]
  },
  {
   "cell_type": "code",
   "execution_count": 16,
   "metadata": {},
   "outputs": [
    {
     "name": "stdout",
     "output_type": "stream",
     "text": [
      "* Running on local URL:  http://127.0.0.1:7860\n",
      "* To create a public link, set `share=True` in `launch()`.\n"
     ]
    },
    {
     "data": {
      "text/html": [
       "<div><iframe src=\"http://127.0.0.1:7860/\" width=\"100%\" height=\"500\" allow=\"autoplay; camera; microphone; clipboard-read; clipboard-write;\" frameborder=\"0\" allowfullscreen></iframe></div>"
      ],
      "text/plain": [
       "<IPython.core.display.HTML object>"
      ]
     },
     "metadata": {},
     "output_type": "display_data"
    },
    {
     "data": {
      "text/plain": []
     },
     "execution_count": 16,
     "metadata": {},
     "output_type": "execute_result"
    }
   ],
   "source": [
    "config = {\"configurable\": {\"thread_id\": \"1\"}}\n",
    "\n",
    "async def chat(user_input: str, history):\n",
    "    result = await graph.ainvoke({\"messages\": [{\"role\": \"user\", \"content\": user_input}]}, config=config)\n",
    "    return result[\"messages\"][-1].content\n",
    "\n",
    "\n",
    "gr.ChatInterface(chat, type=\"messages\").launch()"
   ]
  }
 ],
 "metadata": {
  "kernelspec": {
   "display_name": ".venv",
   "language": "python",
   "name": "python3"
  },
  "language_info": {
   "codemirror_mode": {
    "name": "ipython",
    "version": 3
   },
   "file_extension": ".py",
   "mimetype": "text/x-python",
   "name": "python",
   "nbconvert_exporter": "python",
   "pygments_lexer": "ipython3",
   "version": "3.12.9"
  }
 },
 "nbformat": 4,
 "nbformat_minor": 2
}
