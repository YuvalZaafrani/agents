{
 "cells": [
  {
   "cell_type": "markdown",
   "metadata": {},
   "source": [
    "### And welcome to Week 4, Day 3 - more LangGraph.."
   ]
  },
  {
   "cell_type": "code",
   "execution_count": 1,
   "metadata": {},
   "outputs": [],
   "source": [
    "from typing import Annotated\n",
    "from langgraph.graph import StateGraph, START\n",
    "from langgraph.graph.message import add_messages\n",
    "from dotenv import load_dotenv\n",
    "from IPython.display import Image, display\n",
    "import gradio as gr\n",
    "from langgraph.prebuilt import ToolNode, tools_condition\n",
    "import requests\n",
    "import os\n",
    "from langchain_openai import ChatOpenAI\n",
    "from typing import TypedDict"
   ]
  },
  {
   "cell_type": "code",
   "execution_count": 2,
   "metadata": {},
   "outputs": [
    {
     "data": {
      "text/plain": [
       "True"
      ]
     },
     "execution_count": 2,
     "metadata": {},
     "output_type": "execute_result"
    }
   ],
   "source": [
    "# Our favorite first step! Crew was doing this for us, by the way.\n",
    "load_dotenv(override=True)"
   ]
  },
  {
   "cell_type": "markdown",
   "metadata": {},
   "source": [
    "### First, let's go set up LangSmith!\n",
    "\n",
    "https://langsmith.com"
   ]
  },
  {
   "cell_type": "markdown",
   "metadata": {},
   "source": [
    "### Next, here is a useful function in LangChain community:"
   ]
  },
  {
   "cell_type": "code",
   "execution_count": 3,
   "metadata": {},
   "outputs": [
    {
     "data": {
      "text/plain": [
       "'Paris is the capital and largest city of France, with an estimated city population of 2,048,472 in an area of 105.4 km2 (40.7 sq mi), and a metropolitan ... Paris is the capital and most populous city of France. Situated on the Seine River, in the north of the country, it is in the centre of the Île-de-France ... Paris is the capital of France, the largest country of Europe with 550 000 km2 (65 millions inhabitants). Paris has 2.234 million inhabitants end 2011. Paris, city and capital of France, located along the Seine River, in the north-central part of the country. Paris is one of the world\\'s most ... The capital of France has been Paris since its liberation in 1944. Paris, the capital of France, is often referred to as the \"City of Light\" and is renowned for its art, culture, and history. It is home to ... Paris is the city of romance par excellence, the fashion capital and the best example of French art de vivre. Exploring Paris is an essential rite of passage ... Paris Capital City Of France In 4K Ultra HD Video | Paris, France Capital And Largest City | Paris Is A Major European City And A Global ... Paris is the capital city of France and a cultural and culinary hub. In 2024 it played host to its third Olympic Games. Paris, situated on the river Seine ...'"
      ]
     },
     "execution_count": 3,
     "metadata": {},
     "output_type": "execute_result"
    }
   ],
   "source": [
    "from langchain_community.utilities import GoogleSerperAPIWrapper\n",
    "\n",
    "serper = GoogleSerperAPIWrapper()\n",
    "serper.run(\"What is the capital of France?\")"
   ]
  },
  {
   "cell_type": "markdown",
   "metadata": {},
   "source": [
    "### Now here is a LangChain wrapper class for converting functions into Tools"
   ]
  },
  {
   "cell_type": "code",
   "execution_count": 4,
   "metadata": {},
   "outputs": [],
   "source": [
    "from langchain.agents import Tool\n",
    "\n",
    "# LangChain allows you to wrap a regular function into a Tool object,\n",
    "# so you don't have to build complicated JSON yourself every time.\n",
    "# This way your agent or graph can call \"tool_search.invoke()\" and the system will automatically build the call into JSON.\n",
    "tool_search =Tool(\n",
    "        name=\"search\",\n",
    "        func=serper.run,\n",
    "        description=\"Useful for when you need more information from an online search\"\n",
    "    )"
   ]
  },
  {
   "cell_type": "markdown",
   "metadata": {},
   "source": [
    "### Now we can try out the tool the langchain way"
   ]
  },
  {
   "cell_type": "code",
   "execution_count": 5,
   "metadata": {},
   "outputs": [
    {
     "data": {
      "text/plain": [
       "'Paris is the capital and largest city of France, with an estimated city population of 2,048,472 in an area of 105.4 km2 (40.7 sq mi), and a metropolitan ... Paris is the capital and most populous city of France. Situated on the Seine River, in the north of the country, it is in the centre of the Île-de-France ... Paris is the capital of France, the largest country of Europe with 550 000 km2 (65 millions inhabitants). Paris has 2.234 million inhabitants end 2011. The capital of France has been Paris since its liberation in 1944. Paris, city and capital of France, located along the Seine River, in the north-central part of the country. Paris is one of the world\\'s most ... Paris, the capital of France, is often referred to as the \"City of Light\" and is renowned for its art, culture, and history. Paris, the capital and largest city of France, is located in the northern part of the country on the banks of the Seine River. Paris is the city of romance par excellence, the fashion capital and the best example of French art de vivre. Exploring Paris is an essential rite of passage ... Paris Capital City Of France In 4K Ultra HD Video | Paris, France Capital And Largest City | Paris Is A Major European City And A Global ...'"
      ]
     },
     "execution_count": 5,
     "metadata": {},
     "output_type": "execute_result"
    }
   ],
   "source": [
    "tool_search.invoke(\"What is the capital of France?\")"
   ]
  },
  {
   "cell_type": "markdown",
   "metadata": {},
   "source": [
    "### And now let's write a tool ourselves\n",
    "\n",
    "We'll pick a familiar one"
   ]
  },
  {
   "cell_type": "code",
   "execution_count": 6,
   "metadata": {},
   "outputs": [],
   "source": [
    "pushover_token = os.getenv(\"PUSHOVER_TOKEN\")\n",
    "pushover_user = os.getenv(\"PUSHOVER_USER\")\n",
    "pushover_url = \"https://api.pushover.net/1/messages.json\"\n",
    "\n",
    "def push(text: str):\n",
    "    \"\"\"Send a push notification to the user\"\"\"\n",
    "    requests.post(pushover_url, data = {\"token\": pushover_token, \"user\": pushover_user, \"message\": text})"
   ]
  },
  {
   "cell_type": "code",
   "execution_count": 7,
   "metadata": {},
   "outputs": [],
   "source": [
    "tool_push = Tool(\n",
    "        name=\"send_push_notification\",\n",
    "        func=push,\n",
    "        description=\"useful for when you want to send a push notification\"\n",
    "    )\n",
    "\n",
    "tool_push.invoke(\"Hello, me\")"
   ]
  },
  {
   "cell_type": "markdown",
   "metadata": {},
   "source": [
    "### Back to the Graph from yesterday\n",
    "\n",
    "One small change - using TypedDict instead of BaseModel for the State object\n",
    "\n",
    "When we implement tools, we always need to make 2 changes to the code:\n",
    "\n",
    "1. Changes to provide the tools to OpenAI in json when we make the call\n",
    "\n",
    "2. Changes to handle the results back: look for the model staying that the finish_reason==\"tool_calls\" and then retrieve the call, run the function, provide the results."
   ]
  },
  {
   "cell_type": "markdown",
   "metadata": {},
   "source": [
    "### Bring them together"
   ]
  },
  {
   "cell_type": "code",
   "execution_count": 8,
   "metadata": {},
   "outputs": [],
   "source": [
    "tools = [tool_search, tool_push]"
   ]
  },
  {
   "cell_type": "code",
   "execution_count": 9,
   "metadata": {},
   "outputs": [],
   "source": [
    "# Step 1: Define the State object\n",
    "class State(TypedDict):\n",
    "    messages: Annotated[list, add_messages]"
   ]
  },
  {
   "cell_type": "code",
   "execution_count": 10,
   "metadata": {},
   "outputs": [],
   "source": [
    "# Step 2: Start the Graph Builder with this State class\n",
    "graph_builder = StateGraph(State)"
   ]
  },
  {
   "cell_type": "code",
   "execution_count": 11,
   "metadata": {},
   "outputs": [],
   "source": [
    "# This is different:\n",
    "\n",
    "llm = ChatOpenAI(model=\"gpt-4o-mini\")\n",
    "\n",
    "# LangChain “wraps” the model so that every time it is called (invoke), \n",
    "# it already knows what tools are available, automatically prepares the tools’ JSON, \n",
    "# and decodes the response if it includes a call to a tool.\n",
    "llm_with_tools = llm.bind_tools(tools)"
   ]
  },
  {
   "cell_type": "code",
   "execution_count": 12,
   "metadata": {},
   "outputs": [
    {
     "data": {
      "text/plain": [
       "<langgraph.graph.state.StateGraph at 0x1f40df88e00>"
      ]
     },
     "execution_count": 12,
     "metadata": {},
     "output_type": "execute_result"
    }
   ],
   "source": [
    "# Step 3: Create a Node\n",
    "\n",
    "def chatbot(state: State):\n",
    "    return {\"messages\": [llm_with_tools.invoke(state[\"messages\"])]}\n",
    "\n",
    "# First node - chatbot\n",
    "graph_builder.add_node(\"chatbot\", chatbot)\n",
    "# Second node - A built-in node (“canned node”) that is responsible for running the actual tools when the model requests it.\n",
    "graph_builder.add_node(\"tools\", ToolNode(tools=tools))"
   ]
  },
  {
   "cell_type": "code",
   "execution_count": 13,
   "metadata": {},
   "outputs": [
    {
     "data": {
      "text/plain": [
       "<langgraph.graph.state.StateGraph at 0x1f40df88e00>"
      ]
     },
     "execution_count": 13,
     "metadata": {},
     "output_type": "execute_result"
    }
   ],
   "source": [
    "# Step 4: Create Edges\n",
    "\n",
    "# If the LLM returns a response that finish_reason == \"tool_calls\" → we go to the node called tools.\n",
    "graph_builder.add_conditional_edges( \"chatbot\", tools_condition, \"tools\")\n",
    "\n",
    "# Any time a tool is called, we return to the chatbot to decide the next step\n",
    "graph_builder.add_edge(\"tools\", \"chatbot\")\n",
    "graph_builder.add_edge(START, \"chatbot\")\n",
    "# LangGraph has a built-in END node that is automatically added when the conditions end."
   ]
  },
  {
   "cell_type": "code",
   "execution_count": 15,
   "metadata": {},
   "outputs": [
    {
     "name": "stdout",
     "output_type": "stream",
     "text": [
      "---\n",
      "config:\n",
      "  flowchart:\n",
      "    curve: linear\n",
      "---\n",
      "graph TD;\n",
      "\t__start__([<p>__start__</p>]):::first\n",
      "\tchatbot(chatbot)\n",
      "\ttools(tools)\n",
      "\t__end__([<p>__end__</p>]):::last\n",
      "\t__start__ --> chatbot;\n",
      "\tchatbot -.-> __end__;\n",
      "\tchatbot -.-> tools;\n",
      "\ttools --> chatbot;\n",
      "\tclassDef default fill:#f2f0ff,line-height:1.2\n",
      "\tclassDef first fill-opacity:0\n",
      "\tclassDef last fill:#bfb6fc\n",
      "\n"
     ]
    }
   ],
   "source": [
    "# Step 5: Compile the Graph\n",
    "graph = graph_builder.compile()\n",
    "# display(Image(graph.get_graph().draw_mermaid_png()))\n",
    "print(graph.get_graph().draw_mermaid())"
   ]
  },
  {
   "cell_type": "markdown",
   "metadata": {},
   "source": [
    "<img src=\"attachments/Screenshot 2025-10-11 133610.png\" width=\"200\">"
   ]
  },
  {
   "cell_type": "markdown",
   "metadata": {},
   "source": [
    "### That's it! And, let's do this:"
   ]
  },
  {
   "cell_type": "code",
   "execution_count": 16,
   "metadata": {},
   "outputs": [
    {
     "name": "stdout",
     "output_type": "stream",
     "text": [
      "* Running on local URL:  http://127.0.0.1:7862\n",
      "* To create a public link, set `share=True` in `launch()`.\n"
     ]
    },
    {
     "data": {
      "text/html": [
       "<div><iframe src=\"http://127.0.0.1:7862/\" width=\"100%\" height=\"500\" allow=\"autoplay; camera; microphone; clipboard-read; clipboard-write;\" frameborder=\"0\" allowfullscreen></iframe></div>"
      ],
      "text/plain": [
       "<IPython.core.display.HTML object>"
      ]
     },
     "metadata": {},
     "output_type": "display_data"
    },
    {
     "data": {
      "text/plain": []
     },
     "execution_count": 16,
     "metadata": {},
     "output_type": "execute_result"
    }
   ],
   "source": [
    "def chat(user_input: str, history):\n",
    "    result = graph.invoke({\"messages\": [{\"role\": \"user\", \"content\": user_input}]})\n",
    "    return result[\"messages\"][-1].content\n",
    "\n",
    "\n",
    "gr.ChatInterface(chat, type=\"messages\").launch()"
   ]
  },
  {
   "cell_type": "markdown",
   "metadata": {},
   "source": [
    "## OK it's time to add Memory!\n",
    "\n",
    "### BUT WAIT!\n",
    "\n",
    "We have this whole Graph maintaining the state and appending to the state.\n",
    "\n",
    "Why isn't this handling memory?\n",
    "\n",
    "### This is a crucial point for understanding LangGraph\n",
    "\n",
    "> A super-step can be considered a single iteration over the graph nodes. Nodes that run in parallel are part of the same super-step, while nodes that run sequentially belong to separate super-steps.\n",
    "\n",
    "\n",
    "One \"Super-Step\" of the graph represents one invocation of passing messages between agents.\n",
    "\n",
    "In idomatic LangGraph, you call invoke to run your graph for each super-step; for each interaction.\n",
    "\n",
    "The reducer handles state updates automatically within one super-step, but not between them.\n",
    "\n",
    "That is what checkpointing achieves."
   ]
  },
  {
   "cell_type": "code",
   "execution_count": 17,
   "metadata": {},
   "outputs": [],
   "source": [
    "from langgraph.checkpoint.memory import MemorySaver\n",
    "\n",
    "memory = MemorySaver()"
   ]
  },
  {
   "cell_type": "code",
   "execution_count": 18,
   "metadata": {},
   "outputs": [
    {
     "name": "stdout",
     "output_type": "stream",
     "text": [
      "---\n",
      "config:\n",
      "  flowchart:\n",
      "    curve: linear\n",
      "---\n",
      "graph TD;\n",
      "\t__start__([<p>__start__</p>]):::first\n",
      "\tchatbot(chatbot)\n",
      "\ttools(tools)\n",
      "\t__end__([<p>__end__</p>]):::last\n",
      "\t__start__ --> chatbot;\n",
      "\tchatbot -.-> __end__;\n",
      "\tchatbot -.-> tools;\n",
      "\ttools --> chatbot;\n",
      "\tclassDef default fill:#f2f0ff,line-height:1.2\n",
      "\tclassDef first fill-opacity:0\n",
      "\tclassDef last fill:#bfb6fc\n",
      "\n"
     ]
    }
   ],
   "source": [
    "# Steps 1 and 2\n",
    "graph_builder = StateGraph(State)\n",
    "\n",
    "\n",
    "# Step 3\n",
    "llm = ChatOpenAI(model=\"gpt-4o-mini\")\n",
    "llm_with_tools = llm.bind_tools(tools)\n",
    "\n",
    "def chatbot(state: State):\n",
    "    print(state)\n",
    "    return {\"messages\": [llm_with_tools.invoke(state[\"messages\"])]}\n",
    "\n",
    "graph_builder.add_node(\"chatbot\", chatbot)\n",
    "graph_builder.add_node(\"tools\", ToolNode(tools=tools))\n",
    "\n",
    "# Step 4\n",
    "graph_builder.add_conditional_edges( \"chatbot\", tools_condition, \"tools\")\n",
    "graph_builder.add_edge(\"tools\", \"chatbot\")\n",
    "graph_builder.add_edge(START, \"chatbot\")\n",
    "\n",
    "# Step 5\n",
    "graph = graph_builder.compile(checkpointer=memory)\n",
    "# display(Image(graph.get_graph().draw_mermaid_png()))\n",
    "print(graph.get_graph().draw_mermaid())"
   ]
  },
  {
   "cell_type": "markdown",
   "metadata": {},
   "source": [
    "<img src=\"attachments/Screenshot 2025-10-11 133610.png\" width=\"200\">"
   ]
  },
  {
   "cell_type": "code",
   "execution_count": 19,
   "metadata": {},
   "outputs": [
    {
     "name": "stdout",
     "output_type": "stream",
     "text": [
      "* Running on local URL:  http://127.0.0.1:7860\n",
      "* To create a public link, set `share=True` in `launch()`.\n"
     ]
    },
    {
     "data": {
      "text/html": [
       "<div><iframe src=\"http://127.0.0.1:7860/\" width=\"100%\" height=\"500\" allow=\"autoplay; camera; microphone; clipboard-read; clipboard-write;\" frameborder=\"0\" allowfullscreen></iframe></div>"
      ],
      "text/plain": [
       "<IPython.core.display.HTML object>"
      ]
     },
     "metadata": {},
     "output_type": "display_data"
    },
    {
     "data": {
      "text/plain": []
     },
     "execution_count": 19,
     "metadata": {},
     "output_type": "execute_result"
    },
    {
     "name": "stdout",
     "output_type": "stream",
     "text": [
      "{'messages': [HumanMessage(content='hi there !', additional_kwargs={}, response_metadata={}, id='9a59afe8-7f4d-4550-bfdc-076baa350c1f')]}\n",
      "{'messages': [HumanMessage(content='hi there !', additional_kwargs={}, response_metadata={}, id='9a59afe8-7f4d-4550-bfdc-076baa350c1f'), AIMessage(content='Hello! How can I assist you today?', additional_kwargs={'refusal': None}, response_metadata={'token_usage': {'completion_tokens': 10, 'prompt_tokens': 91, 'total_tokens': 101, 'completion_tokens_details': {'accepted_prediction_tokens': 0, 'audio_tokens': 0, 'reasoning_tokens': 0, 'rejected_prediction_tokens': 0}, 'prompt_tokens_details': {'audio_tokens': 0, 'cached_tokens': 0}}, 'model_name': 'gpt-4o-mini-2024-07-18', 'system_fingerprint': 'fp_560af6e559', 'id': 'chatcmpl-CPRlFfWp0kM3OI0QUBioeDIeCyZ10', 'service_tier': 'default', 'finish_reason': 'stop', 'logprobs': None}, id='run--9586447b-e08a-4952-9b56-7cc8df32958f-0', usage_metadata={'input_tokens': 91, 'output_tokens': 10, 'total_tokens': 101, 'input_token_details': {'audio': 0, 'cache_read': 0}, 'output_token_details': {'audio': 0, 'reasoning': 0}}), HumanMessage(content='My name is Yuval', additional_kwargs={}, response_metadata={}, id='e73c126c-caf1-421b-91f1-b25c00cafe3e')]}\n",
      "{'messages': [HumanMessage(content='hi there !', additional_kwargs={}, response_metadata={}, id='9a59afe8-7f4d-4550-bfdc-076baa350c1f'), AIMessage(content='Hello! How can I assist you today?', additional_kwargs={'refusal': None}, response_metadata={'token_usage': {'completion_tokens': 10, 'prompt_tokens': 91, 'total_tokens': 101, 'completion_tokens_details': {'accepted_prediction_tokens': 0, 'audio_tokens': 0, 'reasoning_tokens': 0, 'rejected_prediction_tokens': 0}, 'prompt_tokens_details': {'audio_tokens': 0, 'cached_tokens': 0}}, 'model_name': 'gpt-4o-mini-2024-07-18', 'system_fingerprint': 'fp_560af6e559', 'id': 'chatcmpl-CPRlFfWp0kM3OI0QUBioeDIeCyZ10', 'service_tier': 'default', 'finish_reason': 'stop', 'logprobs': None}, id='run--9586447b-e08a-4952-9b56-7cc8df32958f-0', usage_metadata={'input_tokens': 91, 'output_tokens': 10, 'total_tokens': 101, 'input_token_details': {'audio': 0, 'cache_read': 0}, 'output_token_details': {'audio': 0, 'reasoning': 0}}), HumanMessage(content='My name is Yuval', additional_kwargs={}, response_metadata={}, id='e73c126c-caf1-421b-91f1-b25c00cafe3e'), AIMessage(content='Nice to meet you, Yuval! How can I help you today?', additional_kwargs={'refusal': None}, response_metadata={'token_usage': {'completion_tokens': 16, 'prompt_tokens': 113, 'total_tokens': 129, 'completion_tokens_details': {'accepted_prediction_tokens': 0, 'audio_tokens': 0, 'reasoning_tokens': 0, 'rejected_prediction_tokens': 0}, 'prompt_tokens_details': {'audio_tokens': 0, 'cached_tokens': 0}}, 'model_name': 'gpt-4o-mini-2024-07-18', 'system_fingerprint': 'fp_560af6e559', 'id': 'chatcmpl-CPRlRIrS4tKqEOgE5JuIe2lLABAfM', 'service_tier': 'default', 'finish_reason': 'stop', 'logprobs': None}, id='run--3c8b0a72-5bc6-4209-ac62-944ee550c34b-0', usage_metadata={'input_tokens': 113, 'output_tokens': 16, 'total_tokens': 129, 'input_token_details': {'audio': 0, 'cache_read': 0}, 'output_token_details': {'audio': 0, 'reasoning': 0}}), HumanMessage(content='What is my name ?', additional_kwargs={}, response_metadata={}, id='7da7e6b8-717e-4d91-8249-2c705a96d217')]}\n"
     ]
    }
   ],
   "source": [
    "# A configuration variable named config with thread_id (this is a conversation ID, like a chat discussion ID).\n",
    "config = {\"configurable\": {\"thread_id\": \"1\"}}\n",
    "\n",
    "def chat(user_input: str, history):\n",
    "    # Each time the graph is run, the same config is passed - this is how LangGraph knows to link it to the same \"thread\" in memory.\n",
    "    result = graph.invoke({\"messages\": [{\"role\": \"user\", \"content\": user_input}]}, config=config)\n",
    "    return result[\"messages\"][-1].content\n",
    "\n",
    "\n",
    "gr.ChatInterface(chat, type=\"messages\").launch()"
   ]
  },
  {
   "cell_type": "code",
   "execution_count": 20,
   "metadata": {},
   "outputs": [
    {
     "data": {
      "text/plain": [
       "StateSnapshot(values={'messages': [HumanMessage(content='hi there !', additional_kwargs={}, response_metadata={}, id='9a59afe8-7f4d-4550-bfdc-076baa350c1f'), AIMessage(content='Hello! How can I assist you today?', additional_kwargs={'refusal': None}, response_metadata={'token_usage': {'completion_tokens': 10, 'prompt_tokens': 91, 'total_tokens': 101, 'completion_tokens_details': {'accepted_prediction_tokens': 0, 'audio_tokens': 0, 'reasoning_tokens': 0, 'rejected_prediction_tokens': 0}, 'prompt_tokens_details': {'audio_tokens': 0, 'cached_tokens': 0}}, 'model_name': 'gpt-4o-mini-2024-07-18', 'system_fingerprint': 'fp_560af6e559', 'id': 'chatcmpl-CPRlFfWp0kM3OI0QUBioeDIeCyZ10', 'service_tier': 'default', 'finish_reason': 'stop', 'logprobs': None}, id='run--9586447b-e08a-4952-9b56-7cc8df32958f-0', usage_metadata={'input_tokens': 91, 'output_tokens': 10, 'total_tokens': 101, 'input_token_details': {'audio': 0, 'cache_read': 0}, 'output_token_details': {'audio': 0, 'reasoning': 0}}), HumanMessage(content='My name is Yuval', additional_kwargs={}, response_metadata={}, id='e73c126c-caf1-421b-91f1-b25c00cafe3e'), AIMessage(content='Nice to meet you, Yuval! How can I help you today?', additional_kwargs={'refusal': None}, response_metadata={'token_usage': {'completion_tokens': 16, 'prompt_tokens': 113, 'total_tokens': 129, 'completion_tokens_details': {'accepted_prediction_tokens': 0, 'audio_tokens': 0, 'reasoning_tokens': 0, 'rejected_prediction_tokens': 0}, 'prompt_tokens_details': {'audio_tokens': 0, 'cached_tokens': 0}}, 'model_name': 'gpt-4o-mini-2024-07-18', 'system_fingerprint': 'fp_560af6e559', 'id': 'chatcmpl-CPRlRIrS4tKqEOgE5JuIe2lLABAfM', 'service_tier': 'default', 'finish_reason': 'stop', 'logprobs': None}, id='run--3c8b0a72-5bc6-4209-ac62-944ee550c34b-0', usage_metadata={'input_tokens': 113, 'output_tokens': 16, 'total_tokens': 129, 'input_token_details': {'audio': 0, 'cache_read': 0}, 'output_token_details': {'audio': 0, 'reasoning': 0}}), HumanMessage(content='What is my name ?', additional_kwargs={}, response_metadata={}, id='7da7e6b8-717e-4d91-8249-2c705a96d217'), AIMessage(content='Your name is Yuval.', additional_kwargs={'refusal': None}, response_metadata={'token_usage': {'completion_tokens': 7, 'prompt_tokens': 141, 'total_tokens': 148, 'completion_tokens_details': {'accepted_prediction_tokens': 0, 'audio_tokens': 0, 'reasoning_tokens': 0, 'rejected_prediction_tokens': 0}, 'prompt_tokens_details': {'audio_tokens': 0, 'cached_tokens': 0}}, 'model_name': 'gpt-4o-mini-2024-07-18', 'system_fingerprint': 'fp_560af6e559', 'id': 'chatcmpl-CPRlZ5sSt0nKqFx1lH6ZJHUpkgpLm', 'service_tier': 'default', 'finish_reason': 'stop', 'logprobs': None}, id='run--3df37583-24fb-47f9-b655-2ae797b9e835-0', usage_metadata={'input_tokens': 141, 'output_tokens': 7, 'total_tokens': 148, 'input_token_details': {'audio': 0, 'cache_read': 0}, 'output_token_details': {'audio': 0, 'reasoning': 0}})]}, next=(), config={'configurable': {'thread_id': '1', 'checkpoint_ns': '', 'checkpoint_id': '1f0a692c-211d-63b7-8007-e79bdca44807'}}, metadata={'source': 'loop', 'writes': {'chatbot': {'messages': [AIMessage(content='Your name is Yuval.', additional_kwargs={'refusal': None}, response_metadata={'token_usage': {'completion_tokens': 7, 'prompt_tokens': 141, 'total_tokens': 148, 'completion_tokens_details': {'accepted_prediction_tokens': 0, 'audio_tokens': 0, 'reasoning_tokens': 0, 'rejected_prediction_tokens': 0}, 'prompt_tokens_details': {'audio_tokens': 0, 'cached_tokens': 0}}, 'model_name': 'gpt-4o-mini-2024-07-18', 'system_fingerprint': 'fp_560af6e559', 'id': 'chatcmpl-CPRlZ5sSt0nKqFx1lH6ZJHUpkgpLm', 'service_tier': 'default', 'finish_reason': 'stop', 'logprobs': None}, id='run--3df37583-24fb-47f9-b655-2ae797b9e835-0', usage_metadata={'input_tokens': 141, 'output_tokens': 7, 'total_tokens': 148, 'input_token_details': {'audio': 0, 'cache_read': 0}, 'output_token_details': {'audio': 0, 'reasoning': 0}})]}}, 'step': 7, 'parents': {}, 'thread_id': '1'}, created_at='2025-10-11T11:09:29.986962+00:00', parent_config={'configurable': {'thread_id': '1', 'checkpoint_ns': '', 'checkpoint_id': '1f0a692c-15f1-6814-8006-962ef486bb66'}}, tasks=(), interrupts=())"
      ]
     },
     "execution_count": 20,
     "metadata": {},
     "output_type": "execute_result"
    }
   ],
   "source": [
    "graph.get_state(config)"
   ]
  },
  {
   "cell_type": "code",
   "execution_count": 21,
   "metadata": {},
   "outputs": [
    {
     "data": {
      "text/plain": [
       "[StateSnapshot(values={'messages': [HumanMessage(content='hi there !', additional_kwargs={}, response_metadata={}, id='9a59afe8-7f4d-4550-bfdc-076baa350c1f'), AIMessage(content='Hello! How can I assist you today?', additional_kwargs={'refusal': None}, response_metadata={'token_usage': {'completion_tokens': 10, 'prompt_tokens': 91, 'total_tokens': 101, 'completion_tokens_details': {'accepted_prediction_tokens': 0, 'audio_tokens': 0, 'reasoning_tokens': 0, 'rejected_prediction_tokens': 0}, 'prompt_tokens_details': {'audio_tokens': 0, 'cached_tokens': 0}}, 'model_name': 'gpt-4o-mini-2024-07-18', 'system_fingerprint': 'fp_560af6e559', 'id': 'chatcmpl-CPRlFfWp0kM3OI0QUBioeDIeCyZ10', 'service_tier': 'default', 'finish_reason': 'stop', 'logprobs': None}, id='run--9586447b-e08a-4952-9b56-7cc8df32958f-0', usage_metadata={'input_tokens': 91, 'output_tokens': 10, 'total_tokens': 101, 'input_token_details': {'audio': 0, 'cache_read': 0}, 'output_token_details': {'audio': 0, 'reasoning': 0}}), HumanMessage(content='My name is Yuval', additional_kwargs={}, response_metadata={}, id='e73c126c-caf1-421b-91f1-b25c00cafe3e'), AIMessage(content='Nice to meet you, Yuval! How can I help you today?', additional_kwargs={'refusal': None}, response_metadata={'token_usage': {'completion_tokens': 16, 'prompt_tokens': 113, 'total_tokens': 129, 'completion_tokens_details': {'accepted_prediction_tokens': 0, 'audio_tokens': 0, 'reasoning_tokens': 0, 'rejected_prediction_tokens': 0}, 'prompt_tokens_details': {'audio_tokens': 0, 'cached_tokens': 0}}, 'model_name': 'gpt-4o-mini-2024-07-18', 'system_fingerprint': 'fp_560af6e559', 'id': 'chatcmpl-CPRlRIrS4tKqEOgE5JuIe2lLABAfM', 'service_tier': 'default', 'finish_reason': 'stop', 'logprobs': None}, id='run--3c8b0a72-5bc6-4209-ac62-944ee550c34b-0', usage_metadata={'input_tokens': 113, 'output_tokens': 16, 'total_tokens': 129, 'input_token_details': {'audio': 0, 'cache_read': 0}, 'output_token_details': {'audio': 0, 'reasoning': 0}}), HumanMessage(content='What is my name ?', additional_kwargs={}, response_metadata={}, id='7da7e6b8-717e-4d91-8249-2c705a96d217'), AIMessage(content='Your name is Yuval.', additional_kwargs={'refusal': None}, response_metadata={'token_usage': {'completion_tokens': 7, 'prompt_tokens': 141, 'total_tokens': 148, 'completion_tokens_details': {'accepted_prediction_tokens': 0, 'audio_tokens': 0, 'reasoning_tokens': 0, 'rejected_prediction_tokens': 0}, 'prompt_tokens_details': {'audio_tokens': 0, 'cached_tokens': 0}}, 'model_name': 'gpt-4o-mini-2024-07-18', 'system_fingerprint': 'fp_560af6e559', 'id': 'chatcmpl-CPRlZ5sSt0nKqFx1lH6ZJHUpkgpLm', 'service_tier': 'default', 'finish_reason': 'stop', 'logprobs': None}, id='run--3df37583-24fb-47f9-b655-2ae797b9e835-0', usage_metadata={'input_tokens': 141, 'output_tokens': 7, 'total_tokens': 148, 'input_token_details': {'audio': 0, 'cache_read': 0}, 'output_token_details': {'audio': 0, 'reasoning': 0}})]}, next=(), config={'configurable': {'thread_id': '1', 'checkpoint_ns': '', 'checkpoint_id': '1f0a692c-211d-63b7-8007-e79bdca44807'}}, metadata={'source': 'loop', 'writes': {'chatbot': {'messages': [AIMessage(content='Your name is Yuval.', additional_kwargs={'refusal': None}, response_metadata={'token_usage': {'completion_tokens': 7, 'prompt_tokens': 141, 'total_tokens': 148, 'completion_tokens_details': {'accepted_prediction_tokens': 0, 'audio_tokens': 0, 'reasoning_tokens': 0, 'rejected_prediction_tokens': 0}, 'prompt_tokens_details': {'audio_tokens': 0, 'cached_tokens': 0}}, 'model_name': 'gpt-4o-mini-2024-07-18', 'system_fingerprint': 'fp_560af6e559', 'id': 'chatcmpl-CPRlZ5sSt0nKqFx1lH6ZJHUpkgpLm', 'service_tier': 'default', 'finish_reason': 'stop', 'logprobs': None}, id='run--3df37583-24fb-47f9-b655-2ae797b9e835-0', usage_metadata={'input_tokens': 141, 'output_tokens': 7, 'total_tokens': 148, 'input_token_details': {'audio': 0, 'cache_read': 0}, 'output_token_details': {'audio': 0, 'reasoning': 0}})]}}, 'step': 7, 'parents': {}, 'thread_id': '1'}, created_at='2025-10-11T11:09:29.986962+00:00', parent_config={'configurable': {'thread_id': '1', 'checkpoint_ns': '', 'checkpoint_id': '1f0a692c-15f1-6814-8006-962ef486bb66'}}, tasks=(), interrupts=()),\n",
       " StateSnapshot(values={'messages': [HumanMessage(content='hi there !', additional_kwargs={}, response_metadata={}, id='9a59afe8-7f4d-4550-bfdc-076baa350c1f'), AIMessage(content='Hello! How can I assist you today?', additional_kwargs={'refusal': None}, response_metadata={'token_usage': {'completion_tokens': 10, 'prompt_tokens': 91, 'total_tokens': 101, 'completion_tokens_details': {'accepted_prediction_tokens': 0, 'audio_tokens': 0, 'reasoning_tokens': 0, 'rejected_prediction_tokens': 0}, 'prompt_tokens_details': {'audio_tokens': 0, 'cached_tokens': 0}}, 'model_name': 'gpt-4o-mini-2024-07-18', 'system_fingerprint': 'fp_560af6e559', 'id': 'chatcmpl-CPRlFfWp0kM3OI0QUBioeDIeCyZ10', 'service_tier': 'default', 'finish_reason': 'stop', 'logprobs': None}, id='run--9586447b-e08a-4952-9b56-7cc8df32958f-0', usage_metadata={'input_tokens': 91, 'output_tokens': 10, 'total_tokens': 101, 'input_token_details': {'audio': 0, 'cache_read': 0}, 'output_token_details': {'audio': 0, 'reasoning': 0}}), HumanMessage(content='My name is Yuval', additional_kwargs={}, response_metadata={}, id='e73c126c-caf1-421b-91f1-b25c00cafe3e'), AIMessage(content='Nice to meet you, Yuval! How can I help you today?', additional_kwargs={'refusal': None}, response_metadata={'token_usage': {'completion_tokens': 16, 'prompt_tokens': 113, 'total_tokens': 129, 'completion_tokens_details': {'accepted_prediction_tokens': 0, 'audio_tokens': 0, 'reasoning_tokens': 0, 'rejected_prediction_tokens': 0}, 'prompt_tokens_details': {'audio_tokens': 0, 'cached_tokens': 0}}, 'model_name': 'gpt-4o-mini-2024-07-18', 'system_fingerprint': 'fp_560af6e559', 'id': 'chatcmpl-CPRlRIrS4tKqEOgE5JuIe2lLABAfM', 'service_tier': 'default', 'finish_reason': 'stop', 'logprobs': None}, id='run--3c8b0a72-5bc6-4209-ac62-944ee550c34b-0', usage_metadata={'input_tokens': 113, 'output_tokens': 16, 'total_tokens': 129, 'input_token_details': {'audio': 0, 'cache_read': 0}, 'output_token_details': {'audio': 0, 'reasoning': 0}}), HumanMessage(content='What is my name ?', additional_kwargs={}, response_metadata={}, id='7da7e6b8-717e-4d91-8249-2c705a96d217')]}, next=('chatbot',), config={'configurable': {'thread_id': '1', 'checkpoint_ns': '', 'checkpoint_id': '1f0a692c-15f1-6814-8006-962ef486bb66'}}, metadata={'source': 'loop', 'writes': None, 'step': 6, 'parents': {}, 'thread_id': '1'}, created_at='2025-10-11T11:09:28.815617+00:00', parent_config={'configurable': {'thread_id': '1', 'checkpoint_ns': '', 'checkpoint_id': '1f0a692c-15f1-6813-8005-512a56c45ce7'}}, tasks=(PregelTask(id='1beb730a-1c5c-57f8-78fd-f559c9630fef', name='chatbot', path=('__pregel_pull', 'chatbot'), error=None, interrupts=(), state=None, result={'messages': [AIMessage(content='Your name is Yuval.', additional_kwargs={'refusal': None}, response_metadata={'token_usage': {'completion_tokens': 7, 'prompt_tokens': 141, 'total_tokens': 148, 'completion_tokens_details': {'accepted_prediction_tokens': 0, 'audio_tokens': 0, 'reasoning_tokens': 0, 'rejected_prediction_tokens': 0}, 'prompt_tokens_details': {'audio_tokens': 0, 'cached_tokens': 0}}, 'model_name': 'gpt-4o-mini-2024-07-18', 'system_fingerprint': 'fp_560af6e559', 'id': 'chatcmpl-CPRlZ5sSt0nKqFx1lH6ZJHUpkgpLm', 'service_tier': 'default', 'finish_reason': 'stop', 'logprobs': None}, id='run--3df37583-24fb-47f9-b655-2ae797b9e835-0', usage_metadata={'input_tokens': 141, 'output_tokens': 7, 'total_tokens': 148, 'input_token_details': {'audio': 0, 'cache_read': 0}, 'output_token_details': {'audio': 0, 'reasoning': 0}})]}),), interrupts=()),\n",
       " StateSnapshot(values={'messages': [HumanMessage(content='hi there !', additional_kwargs={}, response_metadata={}, id='9a59afe8-7f4d-4550-bfdc-076baa350c1f'), AIMessage(content='Hello! How can I assist you today?', additional_kwargs={'refusal': None}, response_metadata={'token_usage': {'completion_tokens': 10, 'prompt_tokens': 91, 'total_tokens': 101, 'completion_tokens_details': {'accepted_prediction_tokens': 0, 'audio_tokens': 0, 'reasoning_tokens': 0, 'rejected_prediction_tokens': 0}, 'prompt_tokens_details': {'audio_tokens': 0, 'cached_tokens': 0}}, 'model_name': 'gpt-4o-mini-2024-07-18', 'system_fingerprint': 'fp_560af6e559', 'id': 'chatcmpl-CPRlFfWp0kM3OI0QUBioeDIeCyZ10', 'service_tier': 'default', 'finish_reason': 'stop', 'logprobs': None}, id='run--9586447b-e08a-4952-9b56-7cc8df32958f-0', usage_metadata={'input_tokens': 91, 'output_tokens': 10, 'total_tokens': 101, 'input_token_details': {'audio': 0, 'cache_read': 0}, 'output_token_details': {'audio': 0, 'reasoning': 0}}), HumanMessage(content='My name is Yuval', additional_kwargs={}, response_metadata={}, id='e73c126c-caf1-421b-91f1-b25c00cafe3e'), AIMessage(content='Nice to meet you, Yuval! How can I help you today?', additional_kwargs={'refusal': None}, response_metadata={'token_usage': {'completion_tokens': 16, 'prompt_tokens': 113, 'total_tokens': 129, 'completion_tokens_details': {'accepted_prediction_tokens': 0, 'audio_tokens': 0, 'reasoning_tokens': 0, 'rejected_prediction_tokens': 0}, 'prompt_tokens_details': {'audio_tokens': 0, 'cached_tokens': 0}}, 'model_name': 'gpt-4o-mini-2024-07-18', 'system_fingerprint': 'fp_560af6e559', 'id': 'chatcmpl-CPRlRIrS4tKqEOgE5JuIe2lLABAfM', 'service_tier': 'default', 'finish_reason': 'stop', 'logprobs': None}, id='run--3c8b0a72-5bc6-4209-ac62-944ee550c34b-0', usage_metadata={'input_tokens': 113, 'output_tokens': 16, 'total_tokens': 129, 'input_token_details': {'audio': 0, 'cache_read': 0}, 'output_token_details': {'audio': 0, 'reasoning': 0}})]}, next=('__start__',), config={'configurable': {'thread_id': '1', 'checkpoint_ns': '', 'checkpoint_id': '1f0a692c-15f1-6813-8005-512a56c45ce7'}}, metadata={'source': 'input', 'writes': {'__start__': {'messages': [{'role': 'user', 'content': 'What is my name ?'}]}}, 'step': 5, 'parents': {}, 'thread_id': '1'}, created_at='2025-10-11T11:09:28.815617+00:00', parent_config={'configurable': {'thread_id': '1', 'checkpoint_ns': '', 'checkpoint_id': '1f0a692b-dae9-6c77-8004-7952edb6dbc8'}}, tasks=(PregelTask(id='9f7c2dbd-cec0-1d3d-0010-a5bb72da78e4', name='__start__', path=('__pregel_pull', '__start__'), error=None, interrupts=(), state=None, result={'messages': [{'role': 'user', 'content': 'What is my name ?'}]}),), interrupts=()),\n",
       " StateSnapshot(values={'messages': [HumanMessage(content='hi there !', additional_kwargs={}, response_metadata={}, id='9a59afe8-7f4d-4550-bfdc-076baa350c1f'), AIMessage(content='Hello! How can I assist you today?', additional_kwargs={'refusal': None}, response_metadata={'token_usage': {'completion_tokens': 10, 'prompt_tokens': 91, 'total_tokens': 101, 'completion_tokens_details': {'accepted_prediction_tokens': 0, 'audio_tokens': 0, 'reasoning_tokens': 0, 'rejected_prediction_tokens': 0}, 'prompt_tokens_details': {'audio_tokens': 0, 'cached_tokens': 0}}, 'model_name': 'gpt-4o-mini-2024-07-18', 'system_fingerprint': 'fp_560af6e559', 'id': 'chatcmpl-CPRlFfWp0kM3OI0QUBioeDIeCyZ10', 'service_tier': 'default', 'finish_reason': 'stop', 'logprobs': None}, id='run--9586447b-e08a-4952-9b56-7cc8df32958f-0', usage_metadata={'input_tokens': 91, 'output_tokens': 10, 'total_tokens': 101, 'input_token_details': {'audio': 0, 'cache_read': 0}, 'output_token_details': {'audio': 0, 'reasoning': 0}}), HumanMessage(content='My name is Yuval', additional_kwargs={}, response_metadata={}, id='e73c126c-caf1-421b-91f1-b25c00cafe3e'), AIMessage(content='Nice to meet you, Yuval! How can I help you today?', additional_kwargs={'refusal': None}, response_metadata={'token_usage': {'completion_tokens': 16, 'prompt_tokens': 113, 'total_tokens': 129, 'completion_tokens_details': {'accepted_prediction_tokens': 0, 'audio_tokens': 0, 'reasoning_tokens': 0, 'rejected_prediction_tokens': 0}, 'prompt_tokens_details': {'audio_tokens': 0, 'cached_tokens': 0}}, 'model_name': 'gpt-4o-mini-2024-07-18', 'system_fingerprint': 'fp_560af6e559', 'id': 'chatcmpl-CPRlRIrS4tKqEOgE5JuIe2lLABAfM', 'service_tier': 'default', 'finish_reason': 'stop', 'logprobs': None}, id='run--3c8b0a72-5bc6-4209-ac62-944ee550c34b-0', usage_metadata={'input_tokens': 113, 'output_tokens': 16, 'total_tokens': 129, 'input_token_details': {'audio': 0, 'cache_read': 0}, 'output_token_details': {'audio': 0, 'reasoning': 0}})]}, next=(), config={'configurable': {'thread_id': '1', 'checkpoint_ns': '', 'checkpoint_id': '1f0a692b-dae9-6c77-8004-7952edb6dbc8'}}, metadata={'source': 'loop', 'writes': {'chatbot': {'messages': [AIMessage(content='Nice to meet you, Yuval! How can I help you today?', additional_kwargs={'refusal': None}, response_metadata={'token_usage': {'completion_tokens': 16, 'prompt_tokens': 113, 'total_tokens': 129, 'completion_tokens_details': {'accepted_prediction_tokens': 0, 'audio_tokens': 0, 'reasoning_tokens': 0, 'rejected_prediction_tokens': 0}, 'prompt_tokens_details': {'audio_tokens': 0, 'cached_tokens': 0}}, 'model_name': 'gpt-4o-mini-2024-07-18', 'system_fingerprint': 'fp_560af6e559', 'id': 'chatcmpl-CPRlRIrS4tKqEOgE5JuIe2lLABAfM', 'service_tier': 'default', 'finish_reason': 'stop', 'logprobs': None}, id='run--3c8b0a72-5bc6-4209-ac62-944ee550c34b-0', usage_metadata={'input_tokens': 113, 'output_tokens': 16, 'total_tokens': 129, 'input_token_details': {'audio': 0, 'cache_read': 0}, 'output_token_details': {'audio': 0, 'reasoning': 0}})]}}, 'step': 4, 'parents': {}, 'thread_id': '1'}, created_at='2025-10-11T11:09:22.625855+00:00', parent_config={'configurable': {'thread_id': '1', 'checkpoint_ns': '', 'checkpoint_id': '1f0a692b-cea2-6f38-8003-8ffe6cf9350f'}}, tasks=(), interrupts=()),\n",
       " StateSnapshot(values={'messages': [HumanMessage(content='hi there !', additional_kwargs={}, response_metadata={}, id='9a59afe8-7f4d-4550-bfdc-076baa350c1f'), AIMessage(content='Hello! How can I assist you today?', additional_kwargs={'refusal': None}, response_metadata={'token_usage': {'completion_tokens': 10, 'prompt_tokens': 91, 'total_tokens': 101, 'completion_tokens_details': {'accepted_prediction_tokens': 0, 'audio_tokens': 0, 'reasoning_tokens': 0, 'rejected_prediction_tokens': 0}, 'prompt_tokens_details': {'audio_tokens': 0, 'cached_tokens': 0}}, 'model_name': 'gpt-4o-mini-2024-07-18', 'system_fingerprint': 'fp_560af6e559', 'id': 'chatcmpl-CPRlFfWp0kM3OI0QUBioeDIeCyZ10', 'service_tier': 'default', 'finish_reason': 'stop', 'logprobs': None}, id='run--9586447b-e08a-4952-9b56-7cc8df32958f-0', usage_metadata={'input_tokens': 91, 'output_tokens': 10, 'total_tokens': 101, 'input_token_details': {'audio': 0, 'cache_read': 0}, 'output_token_details': {'audio': 0, 'reasoning': 0}}), HumanMessage(content='My name is Yuval', additional_kwargs={}, response_metadata={}, id='e73c126c-caf1-421b-91f1-b25c00cafe3e')]}, next=('chatbot',), config={'configurable': {'thread_id': '1', 'checkpoint_ns': '', 'checkpoint_id': '1f0a692b-cea2-6f38-8003-8ffe6cf9350f'}}, metadata={'source': 'loop', 'writes': None, 'step': 3, 'parents': {}, 'thread_id': '1'}, created_at='2025-10-11T11:09:21.338552+00:00', parent_config={'configurable': {'thread_id': '1', 'checkpoint_ns': '', 'checkpoint_id': '1f0a692b-cea2-6f37-8002-ba1ac394b576'}}, tasks=(PregelTask(id='8c1daca9-4f81-2b14-1bd9-13ab31bb5031', name='chatbot', path=('__pregel_pull', 'chatbot'), error=None, interrupts=(), state=None, result={'messages': [AIMessage(content='Nice to meet you, Yuval! How can I help you today?', additional_kwargs={'refusal': None}, response_metadata={'token_usage': {'completion_tokens': 16, 'prompt_tokens': 113, 'total_tokens': 129, 'completion_tokens_details': {'accepted_prediction_tokens': 0, 'audio_tokens': 0, 'reasoning_tokens': 0, 'rejected_prediction_tokens': 0}, 'prompt_tokens_details': {'audio_tokens': 0, 'cached_tokens': 0}}, 'model_name': 'gpt-4o-mini-2024-07-18', 'system_fingerprint': 'fp_560af6e559', 'id': 'chatcmpl-CPRlRIrS4tKqEOgE5JuIe2lLABAfM', 'service_tier': 'default', 'finish_reason': 'stop', 'logprobs': None}, id='run--3c8b0a72-5bc6-4209-ac62-944ee550c34b-0', usage_metadata={'input_tokens': 113, 'output_tokens': 16, 'total_tokens': 129, 'input_token_details': {'audio': 0, 'cache_read': 0}, 'output_token_details': {'audio': 0, 'reasoning': 0}})]}),), interrupts=()),\n",
       " StateSnapshot(values={'messages': [HumanMessage(content='hi there !', additional_kwargs={}, response_metadata={}, id='9a59afe8-7f4d-4550-bfdc-076baa350c1f'), AIMessage(content='Hello! How can I assist you today?', additional_kwargs={'refusal': None}, response_metadata={'token_usage': {'completion_tokens': 10, 'prompt_tokens': 91, 'total_tokens': 101, 'completion_tokens_details': {'accepted_prediction_tokens': 0, 'audio_tokens': 0, 'reasoning_tokens': 0, 'rejected_prediction_tokens': 0}, 'prompt_tokens_details': {'audio_tokens': 0, 'cached_tokens': 0}}, 'model_name': 'gpt-4o-mini-2024-07-18', 'system_fingerprint': 'fp_560af6e559', 'id': 'chatcmpl-CPRlFfWp0kM3OI0QUBioeDIeCyZ10', 'service_tier': 'default', 'finish_reason': 'stop', 'logprobs': None}, id='run--9586447b-e08a-4952-9b56-7cc8df32958f-0', usage_metadata={'input_tokens': 91, 'output_tokens': 10, 'total_tokens': 101, 'input_token_details': {'audio': 0, 'cache_read': 0}, 'output_token_details': {'audio': 0, 'reasoning': 0}})]}, next=('__start__',), config={'configurable': {'thread_id': '1', 'checkpoint_ns': '', 'checkpoint_id': '1f0a692b-cea2-6f37-8002-ba1ac394b576'}}, metadata={'source': 'input', 'writes': {'__start__': {'messages': [{'role': 'user', 'content': 'My name is Yuval'}]}}, 'step': 2, 'parents': {}, 'thread_id': '1'}, created_at='2025-10-11T11:09:21.338552+00:00', parent_config={'configurable': {'thread_id': '1', 'checkpoint_ns': '', 'checkpoint_id': '1f0a692b-67eb-69ba-8001-421881c59de9'}}, tasks=(PregelTask(id='3126c49f-1e30-e338-06c7-0f5e5f0bd041', name='__start__', path=('__pregel_pull', '__start__'), error=None, interrupts=(), state=None, result={'messages': [{'role': 'user', 'content': 'My name is Yuval'}]}),), interrupts=()),\n",
       " StateSnapshot(values={'messages': [HumanMessage(content='hi there !', additional_kwargs={}, response_metadata={}, id='9a59afe8-7f4d-4550-bfdc-076baa350c1f'), AIMessage(content='Hello! How can I assist you today?', additional_kwargs={'refusal': None}, response_metadata={'token_usage': {'completion_tokens': 10, 'prompt_tokens': 91, 'total_tokens': 101, 'completion_tokens_details': {'accepted_prediction_tokens': 0, 'audio_tokens': 0, 'reasoning_tokens': 0, 'rejected_prediction_tokens': 0}, 'prompt_tokens_details': {'audio_tokens': 0, 'cached_tokens': 0}}, 'model_name': 'gpt-4o-mini-2024-07-18', 'system_fingerprint': 'fp_560af6e559', 'id': 'chatcmpl-CPRlFfWp0kM3OI0QUBioeDIeCyZ10', 'service_tier': 'default', 'finish_reason': 'stop', 'logprobs': None}, id='run--9586447b-e08a-4952-9b56-7cc8df32958f-0', usage_metadata={'input_tokens': 91, 'output_tokens': 10, 'total_tokens': 101, 'input_token_details': {'audio': 0, 'cache_read': 0}, 'output_token_details': {'audio': 0, 'reasoning': 0}})]}, next=(), config={'configurable': {'thread_id': '1', 'checkpoint_ns': '', 'checkpoint_id': '1f0a692b-67eb-69ba-8001-421881c59de9'}}, metadata={'source': 'loop', 'writes': {'chatbot': {'messages': [AIMessage(content='Hello! How can I assist you today?', additional_kwargs={'refusal': None}, response_metadata={'token_usage': {'completion_tokens': 10, 'prompt_tokens': 91, 'total_tokens': 101, 'completion_tokens_details': {'accepted_prediction_tokens': 0, 'audio_tokens': 0, 'reasoning_tokens': 0, 'rejected_prediction_tokens': 0}, 'prompt_tokens_details': {'audio_tokens': 0, 'cached_tokens': 0}}, 'model_name': 'gpt-4o-mini-2024-07-18', 'system_fingerprint': 'fp_560af6e559', 'id': 'chatcmpl-CPRlFfWp0kM3OI0QUBioeDIeCyZ10', 'service_tier': 'default', 'finish_reason': 'stop', 'logprobs': None}, id='run--9586447b-e08a-4952-9b56-7cc8df32958f-0', usage_metadata={'input_tokens': 91, 'output_tokens': 10, 'total_tokens': 101, 'input_token_details': {'audio': 0, 'cache_read': 0}, 'output_token_details': {'audio': 0, 'reasoning': 0}})]}}, 'step': 1, 'parents': {}, 'thread_id': '1'}, created_at='2025-10-11T11:09:10.567980+00:00', parent_config={'configurable': {'thread_id': '1', 'checkpoint_ns': '', 'checkpoint_id': '1f0a692b-5cfd-6670-8000-5e41fc6c17ea'}}, tasks=(), interrupts=()),\n",
       " StateSnapshot(values={'messages': [HumanMessage(content='hi there !', additional_kwargs={}, response_metadata={}, id='9a59afe8-7f4d-4550-bfdc-076baa350c1f')]}, next=('chatbot',), config={'configurable': {'thread_id': '1', 'checkpoint_ns': '', 'checkpoint_id': '1f0a692b-5cfd-6670-8000-5e41fc6c17ea'}}, metadata={'source': 'loop', 'writes': None, 'step': 0, 'parents': {}, 'thread_id': '1'}, created_at='2025-10-11T11:09:09.421835+00:00', parent_config={'configurable': {'thread_id': '1', 'checkpoint_ns': '', 'checkpoint_id': '1f0a692b-5cfd-666f-bfff-271b7aabad66'}}, tasks=(PregelTask(id='e751d2fa-9f09-f14b-6c84-46d70af59475', name='chatbot', path=('__pregel_pull', 'chatbot'), error=None, interrupts=(), state=None, result={'messages': [AIMessage(content='Hello! How can I assist you today?', additional_kwargs={'refusal': None}, response_metadata={'token_usage': {'completion_tokens': 10, 'prompt_tokens': 91, 'total_tokens': 101, 'completion_tokens_details': {'accepted_prediction_tokens': 0, 'audio_tokens': 0, 'reasoning_tokens': 0, 'rejected_prediction_tokens': 0}, 'prompt_tokens_details': {'audio_tokens': 0, 'cached_tokens': 0}}, 'model_name': 'gpt-4o-mini-2024-07-18', 'system_fingerprint': 'fp_560af6e559', 'id': 'chatcmpl-CPRlFfWp0kM3OI0QUBioeDIeCyZ10', 'service_tier': 'default', 'finish_reason': 'stop', 'logprobs': None}, id='run--9586447b-e08a-4952-9b56-7cc8df32958f-0', usage_metadata={'input_tokens': 91, 'output_tokens': 10, 'total_tokens': 101, 'input_token_details': {'audio': 0, 'cache_read': 0}, 'output_token_details': {'audio': 0, 'reasoning': 0}})]}),), interrupts=()),\n",
       " StateSnapshot(values={'messages': []}, next=('__start__',), config={'configurable': {'thread_id': '1', 'checkpoint_ns': '', 'checkpoint_id': '1f0a692b-5cfd-666f-bfff-271b7aabad66'}}, metadata={'source': 'input', 'writes': {'__start__': {'messages': [{'role': 'user', 'content': 'hi there !'}]}}, 'step': -1, 'parents': {}, 'thread_id': '1'}, created_at='2025-10-11T11:09:09.421835+00:00', parent_config=None, tasks=(PregelTask(id='c0694fb7-0f57-e84b-e5d5-b503d4e991df', name='__start__', path=('__pregel_pull', '__start__'), error=None, interrupts=(), state=None, result={'messages': [{'role': 'user', 'content': 'hi there !'}]}),), interrupts=())]"
      ]
     },
     "execution_count": 21,
     "metadata": {},
     "output_type": "execute_result"
    }
   ],
   "source": [
    "# Most recent first\n",
    "\n",
    "list(graph.get_state_history(config))"
   ]
  },
  {
   "cell_type": "markdown",
   "metadata": {},
   "source": [
    "### LangGraph gives you tools to set the state back to a prior point in time, to branch off:\n",
    "\n",
    "```\n",
    "config = {\"configurable\": {\"thread_id\": \"1\", \"checkpoint_id\": ...}}\n",
    "graph.invoke(None, config=config)\n",
    "```\n",
    "\n",
    "And this allows you to build stable systems that can be recovered and rerun from any prior checkpoint.\n",
    "\n",
    "---\n",
    "1. ניתן לראות כל superstep שהתרחש<br>\n",
    "ואפילו לשחזר מצב קודם ע\"י ציון checkpoint_id -<br>\n",
    "זה נקרא time travel.\n",
    "2. הזיכרון לא נשמר ב־ Frontend (כמו ב־ Gradio UI),<br>\n",
    "אלא בתוך LangGraph עצמו, באובייקט ה־ memory.<br>\n",
    "גם אם נסגור את Gradio ונפתח שוב, LangGraph עדיין זוכר את ההיסטוריה.\n",
    "3. אם יוצרים מחדש את ה־ memory_saver (כלומר memory חדש),<br>\n",
    "הכול מתאפס – בדיוק כמו שיחה חדשה.<br>\n",
    "ניתן גם לשנות פשוט את ה- thread_id"
   ]
  },
  {
   "cell_type": "markdown",
   "metadata": {},
   "source": [
    "### And now let's store in SQL\n",
    "So far we have used Memory Saver in memory (RAM), and now we replace this with saving in a database – SQLite.\n",
    "### And this is the power of LangGraph."
   ]
  },
  {
   "cell_type": "code",
   "execution_count": 10,
   "metadata": {},
   "outputs": [],
   "source": [
    "import sqlite3\n",
    "from langgraph.checkpoint.sqlite import SqliteSaver\n",
    "\n",
    "db_path = \"memory.db\"\n",
    "conn = sqlite3.connect(db_path, check_same_thread=False)\n",
    "sql_memory = SqliteSaver(conn)"
   ]
  },
  {
   "cell_type": "code",
   "execution_count": 11,
   "metadata": {},
   "outputs": [
    {
     "name": "stdout",
     "output_type": "stream",
     "text": [
      "---\n",
      "config:\n",
      "  flowchart:\n",
      "    curve: linear\n",
      "---\n",
      "graph TD;\n",
      "\t__start__([<p>__start__</p>]):::first\n",
      "\tchatbot(chatbot)\n",
      "\ttools(tools)\n",
      "\t__end__([<p>__end__</p>]):::last\n",
      "\t__start__ --> chatbot;\n",
      "\tchatbot -.-> __end__;\n",
      "\tchatbot -.-> tools;\n",
      "\ttools --> chatbot;\n",
      "\tclassDef default fill:#f2f0ff,line-height:1.2\n",
      "\tclassDef first fill-opacity:0\n",
      "\tclassDef last fill:#bfb6fc\n",
      "\n"
     ]
    }
   ],
   "source": [
    "# Steps 1 and 2\n",
    "graph_builder = StateGraph(State)\n",
    "\n",
    "\n",
    "# Step 3\n",
    "llm = ChatOpenAI(model=\"gpt-4o-mini\")\n",
    "llm_with_tools = llm.bind_tools(tools)\n",
    "\n",
    "def chatbot(state: State):\n",
    "    print(state)\n",
    "    return {\"messages\": [llm_with_tools.invoke(state[\"messages\"])]}\n",
    "\n",
    "graph_builder.add_node(\"chatbot\", chatbot)\n",
    "graph_builder.add_node(\"tools\", ToolNode(tools=tools))\n",
    "\n",
    "# Step 4\n",
    "graph_builder.add_conditional_edges( \"chatbot\", tools_condition, \"tools\")\n",
    "graph_builder.add_edge(\"tools\", \"chatbot\")\n",
    "graph_builder.add_edge(START, \"chatbot\")\n",
    "\n",
    "# Step 5\n",
    "graph = graph_builder.compile(checkpointer=sql_memory)\n",
    "# display(Image(graph.get_graph().draw_mermaid_png()))\n",
    "print(graph.get_graph().draw_mermaid())"
   ]
  },
  {
   "cell_type": "markdown",
   "metadata": {},
   "source": [
    "<img src=\"attachments/Screenshot 2025-10-11 133610.png\" width=\"200\">"
   ]
  },
  {
   "cell_type": "code",
   "execution_count": null,
   "metadata": {},
   "outputs": [
    {
     "name": "stdout",
     "output_type": "stream",
     "text": [
      "* Running on local URL:  http://127.0.0.1:7860\n",
      "* To create a public link, set `share=True` in `launch()`.\n"
     ]
    },
    {
     "data": {
      "text/html": [
       "<div><iframe src=\"http://127.0.0.1:7860/\" width=\"100%\" height=\"500\" allow=\"autoplay; camera; microphone; clipboard-read; clipboard-write;\" frameborder=\"0\" allowfullscreen></iframe></div>"
      ],
      "text/plain": [
       "<IPython.core.display.HTML object>"
      ]
     },
     "metadata": {},
     "output_type": "display_data"
    },
    {
     "data": {
      "text/plain": []
     },
     "execution_count": 12,
     "metadata": {},
     "output_type": "execute_result"
    },
    {
     "name": "stdout",
     "output_type": "stream",
     "text": [
      "{'messages': [HumanMessage(content='hi there !', additional_kwargs={}, response_metadata={}, id='1dd57b59-9920-41de-a93f-8be573e96081'), AIMessage(content='Hello! How can I assist you today?', additional_kwargs={'refusal': None}, response_metadata={'token_usage': {'completion_tokens': 10, 'prompt_tokens': 91, 'total_tokens': 101, 'completion_tokens_details': {'accepted_prediction_tokens': 0, 'audio_tokens': 0, 'reasoning_tokens': 0, 'rejected_prediction_tokens': 0}, 'prompt_tokens_details': {'audio_tokens': 0, 'cached_tokens': 0}}, 'model_name': 'gpt-4o-mini-2024-07-18', 'system_fingerprint': 'fp_560af6e559', 'id': 'chatcmpl-CPSCetdwolT4YSiAUeMbzpp09wmif', 'service_tier': 'default', 'finish_reason': 'stop', 'logprobs': None}, id='run--e31612a9-bbb2-41a5-b195-7836621a057d-0', usage_metadata={'input_tokens': 91, 'output_tokens': 10, 'total_tokens': 101, 'input_token_details': {'audio': 0, 'cache_read': 0}, 'output_token_details': {'audio': 0, 'reasoning': 0}}), HumanMessage(content='what is my name ?', additional_kwargs={}, response_metadata={}, id='1324a193-c3bb-4e42-a2da-8fbec7f760aa'), AIMessage(content=\"I'm sorry, but I don't have that information. How would you like me to address you?\", additional_kwargs={'refusal': None}, response_metadata={'token_usage': {'completion_tokens': 20, 'prompt_tokens': 113, 'total_tokens': 133, 'completion_tokens_details': {'accepted_prediction_tokens': 0, 'audio_tokens': 0, 'reasoning_tokens': 0, 'rejected_prediction_tokens': 0}, 'prompt_tokens_details': {'audio_tokens': 0, 'cached_tokens': 0}}, 'model_name': 'gpt-4o-mini-2024-07-18', 'system_fingerprint': 'fp_560af6e559', 'id': 'chatcmpl-CPSCuqSa912cqWgY0pAxYtzKCJlri', 'service_tier': 'default', 'finish_reason': 'stop', 'logprobs': None}, id='run--4f2c6770-4509-4b46-b8eb-ade422d3384f-0', usage_metadata={'input_tokens': 113, 'output_tokens': 20, 'total_tokens': 133, 'input_token_details': {'audio': 0, 'cache_read': 0}, 'output_token_details': {'audio': 0, 'reasoning': 0}}), HumanMessage(content='my name is Yuval ', additional_kwargs={}, response_metadata={}, id='45487db1-1fac-4748-8a2c-05fa75908510'), AIMessage(content='Nice to meet you, Yuval! How can I assist you today?', additional_kwargs={'refusal': None}, response_metadata={'token_usage': {'completion_tokens': 16, 'prompt_tokens': 146, 'total_tokens': 162, 'completion_tokens_details': {'accepted_prediction_tokens': 0, 'audio_tokens': 0, 'reasoning_tokens': 0, 'rejected_prediction_tokens': 0}, 'prompt_tokens_details': {'audio_tokens': 0, 'cached_tokens': 0}}, 'model_name': 'gpt-4o-mini-2024-07-18', 'system_fingerprint': 'fp_560af6e559', 'id': 'chatcmpl-CPSD5giPQ6WRhGmAOUegTItnfYikM', 'service_tier': 'default', 'finish_reason': 'stop', 'logprobs': None}, id='run--85578e30-e56d-4f3a-a96c-339b34e7d8e6-0', usage_metadata={'input_tokens': 146, 'output_tokens': 16, 'total_tokens': 162, 'input_token_details': {'audio': 0, 'cache_read': 0}, 'output_token_details': {'audio': 0, 'reasoning': 0}}), HumanMessage(content='hi there !', additional_kwargs={}, response_metadata={}, id='21df219a-9f83-4ce3-8630-6162ae755e9a')]}\n",
      "{'messages': [HumanMessage(content='hi there !', additional_kwargs={}, response_metadata={}, id='1dd57b59-9920-41de-a93f-8be573e96081'), AIMessage(content='Hello! How can I assist you today?', additional_kwargs={'refusal': None}, response_metadata={'token_usage': {'completion_tokens': 10, 'prompt_tokens': 91, 'total_tokens': 101, 'completion_tokens_details': {'accepted_prediction_tokens': 0, 'audio_tokens': 0, 'reasoning_tokens': 0, 'rejected_prediction_tokens': 0}, 'prompt_tokens_details': {'audio_tokens': 0, 'cached_tokens': 0}}, 'model_name': 'gpt-4o-mini-2024-07-18', 'system_fingerprint': 'fp_560af6e559', 'id': 'chatcmpl-CPSCetdwolT4YSiAUeMbzpp09wmif', 'service_tier': 'default', 'finish_reason': 'stop', 'logprobs': None}, id='run--e31612a9-bbb2-41a5-b195-7836621a057d-0', usage_metadata={'input_tokens': 91, 'output_tokens': 10, 'total_tokens': 101, 'input_token_details': {'audio': 0, 'cache_read': 0}, 'output_token_details': {'audio': 0, 'reasoning': 0}}), HumanMessage(content='what is my name ?', additional_kwargs={}, response_metadata={}, id='1324a193-c3bb-4e42-a2da-8fbec7f760aa'), AIMessage(content=\"I'm sorry, but I don't have that information. How would you like me to address you?\", additional_kwargs={'refusal': None}, response_metadata={'token_usage': {'completion_tokens': 20, 'prompt_tokens': 113, 'total_tokens': 133, 'completion_tokens_details': {'accepted_prediction_tokens': 0, 'audio_tokens': 0, 'reasoning_tokens': 0, 'rejected_prediction_tokens': 0}, 'prompt_tokens_details': {'audio_tokens': 0, 'cached_tokens': 0}}, 'model_name': 'gpt-4o-mini-2024-07-18', 'system_fingerprint': 'fp_560af6e559', 'id': 'chatcmpl-CPSCuqSa912cqWgY0pAxYtzKCJlri', 'service_tier': 'default', 'finish_reason': 'stop', 'logprobs': None}, id='run--4f2c6770-4509-4b46-b8eb-ade422d3384f-0', usage_metadata={'input_tokens': 113, 'output_tokens': 20, 'total_tokens': 133, 'input_token_details': {'audio': 0, 'cache_read': 0}, 'output_token_details': {'audio': 0, 'reasoning': 0}}), HumanMessage(content='my name is Yuval ', additional_kwargs={}, response_metadata={}, id='45487db1-1fac-4748-8a2c-05fa75908510'), AIMessage(content='Nice to meet you, Yuval! How can I assist you today?', additional_kwargs={'refusal': None}, response_metadata={'token_usage': {'completion_tokens': 16, 'prompt_tokens': 146, 'total_tokens': 162, 'completion_tokens_details': {'accepted_prediction_tokens': 0, 'audio_tokens': 0, 'reasoning_tokens': 0, 'rejected_prediction_tokens': 0}, 'prompt_tokens_details': {'audio_tokens': 0, 'cached_tokens': 0}}, 'model_name': 'gpt-4o-mini-2024-07-18', 'system_fingerprint': 'fp_560af6e559', 'id': 'chatcmpl-CPSD5giPQ6WRhGmAOUegTItnfYikM', 'service_tier': 'default', 'finish_reason': 'stop', 'logprobs': None}, id='run--85578e30-e56d-4f3a-a96c-339b34e7d8e6-0', usage_metadata={'input_tokens': 146, 'output_tokens': 16, 'total_tokens': 162, 'input_token_details': {'audio': 0, 'cache_read': 0}, 'output_token_details': {'audio': 0, 'reasoning': 0}}), HumanMessage(content='hi there !', additional_kwargs={}, response_metadata={}, id='21df219a-9f83-4ce3-8630-6162ae755e9a'), AIMessage(content='Hello again, Yuval! How can I help you today?', additional_kwargs={'refusal': None}, response_metadata={'token_usage': {'completion_tokens': 14, 'prompt_tokens': 172, 'total_tokens': 186, 'completion_tokens_details': {'accepted_prediction_tokens': 0, 'audio_tokens': 0, 'reasoning_tokens': 0, 'rejected_prediction_tokens': 0}, 'prompt_tokens_details': {'audio_tokens': 0, 'cached_tokens': 0}}, 'model_name': 'gpt-4o-mini-2024-07-18', 'system_fingerprint': 'fp_560af6e559', 'id': 'chatcmpl-CPSEhBKaIEz4DqHe74SJwrLCpVDpR', 'service_tier': 'default', 'finish_reason': 'stop', 'logprobs': None}, id='run--0ac39a00-99f7-4c70-b273-e006ef691d25-0', usage_metadata={'input_tokens': 172, 'output_tokens': 14, 'total_tokens': 186, 'input_token_details': {'audio': 0, 'cache_read': 0}, 'output_token_details': {'audio': 0, 'reasoning': 0}}), HumanMessage(content='Please send me a push notification with the current USD GBP exchange rates', additional_kwargs={}, response_metadata={}, id='d13d3274-077e-4be2-9e2d-c6e4eff10af5')]}\n",
      "{'messages': [HumanMessage(content='hi there !', additional_kwargs={}, response_metadata={}, id='1dd57b59-9920-41de-a93f-8be573e96081'), AIMessage(content='Hello! How can I assist you today?', additional_kwargs={'refusal': None}, response_metadata={'token_usage': {'completion_tokens': 10, 'prompt_tokens': 91, 'total_tokens': 101, 'completion_tokens_details': {'accepted_prediction_tokens': 0, 'audio_tokens': 0, 'reasoning_tokens': 0, 'rejected_prediction_tokens': 0}, 'prompt_tokens_details': {'audio_tokens': 0, 'cached_tokens': 0}}, 'model_name': 'gpt-4o-mini-2024-07-18', 'system_fingerprint': 'fp_560af6e559', 'id': 'chatcmpl-CPSCetdwolT4YSiAUeMbzpp09wmif', 'service_tier': 'default', 'finish_reason': 'stop', 'logprobs': None}, id='run--e31612a9-bbb2-41a5-b195-7836621a057d-0', usage_metadata={'input_tokens': 91, 'output_tokens': 10, 'total_tokens': 101, 'input_token_details': {'audio': 0, 'cache_read': 0}, 'output_token_details': {'audio': 0, 'reasoning': 0}}), HumanMessage(content='what is my name ?', additional_kwargs={}, response_metadata={}, id='1324a193-c3bb-4e42-a2da-8fbec7f760aa'), AIMessage(content=\"I'm sorry, but I don't have that information. How would you like me to address you?\", additional_kwargs={'refusal': None}, response_metadata={'token_usage': {'completion_tokens': 20, 'prompt_tokens': 113, 'total_tokens': 133, 'completion_tokens_details': {'accepted_prediction_tokens': 0, 'audio_tokens': 0, 'reasoning_tokens': 0, 'rejected_prediction_tokens': 0}, 'prompt_tokens_details': {'audio_tokens': 0, 'cached_tokens': 0}}, 'model_name': 'gpt-4o-mini-2024-07-18', 'system_fingerprint': 'fp_560af6e559', 'id': 'chatcmpl-CPSCuqSa912cqWgY0pAxYtzKCJlri', 'service_tier': 'default', 'finish_reason': 'stop', 'logprobs': None}, id='run--4f2c6770-4509-4b46-b8eb-ade422d3384f-0', usage_metadata={'input_tokens': 113, 'output_tokens': 20, 'total_tokens': 133, 'input_token_details': {'audio': 0, 'cache_read': 0}, 'output_token_details': {'audio': 0, 'reasoning': 0}}), HumanMessage(content='my name is Yuval ', additional_kwargs={}, response_metadata={}, id='45487db1-1fac-4748-8a2c-05fa75908510'), AIMessage(content='Nice to meet you, Yuval! How can I assist you today?', additional_kwargs={'refusal': None}, response_metadata={'token_usage': {'completion_tokens': 16, 'prompt_tokens': 146, 'total_tokens': 162, 'completion_tokens_details': {'accepted_prediction_tokens': 0, 'audio_tokens': 0, 'reasoning_tokens': 0, 'rejected_prediction_tokens': 0}, 'prompt_tokens_details': {'audio_tokens': 0, 'cached_tokens': 0}}, 'model_name': 'gpt-4o-mini-2024-07-18', 'system_fingerprint': 'fp_560af6e559', 'id': 'chatcmpl-CPSD5giPQ6WRhGmAOUegTItnfYikM', 'service_tier': 'default', 'finish_reason': 'stop', 'logprobs': None}, id='run--85578e30-e56d-4f3a-a96c-339b34e7d8e6-0', usage_metadata={'input_tokens': 146, 'output_tokens': 16, 'total_tokens': 162, 'input_token_details': {'audio': 0, 'cache_read': 0}, 'output_token_details': {'audio': 0, 'reasoning': 0}}), HumanMessage(content='hi there !', additional_kwargs={}, response_metadata={}, id='21df219a-9f83-4ce3-8630-6162ae755e9a'), AIMessage(content='Hello again, Yuval! How can I help you today?', additional_kwargs={'refusal': None}, response_metadata={'token_usage': {'completion_tokens': 14, 'prompt_tokens': 172, 'total_tokens': 186, 'completion_tokens_details': {'accepted_prediction_tokens': 0, 'audio_tokens': 0, 'reasoning_tokens': 0, 'rejected_prediction_tokens': 0}, 'prompt_tokens_details': {'audio_tokens': 0, 'cached_tokens': 0}}, 'model_name': 'gpt-4o-mini-2024-07-18', 'system_fingerprint': 'fp_560af6e559', 'id': 'chatcmpl-CPSEhBKaIEz4DqHe74SJwrLCpVDpR', 'service_tier': 'default', 'finish_reason': 'stop', 'logprobs': None}, id='run--0ac39a00-99f7-4c70-b273-e006ef691d25-0', usage_metadata={'input_tokens': 172, 'output_tokens': 14, 'total_tokens': 186, 'input_token_details': {'audio': 0, 'cache_read': 0}, 'output_token_details': {'audio': 0, 'reasoning': 0}}), HumanMessage(content='Please send me a push notification with the current USD GBP exchange rates', additional_kwargs={}, response_metadata={}, id='d13d3274-077e-4be2-9e2d-c6e4eff10af5'), AIMessage(content='', additional_kwargs={'tool_calls': [{'id': 'call_I38NMSNCYREfecwbWvDS7bV4', 'function': {'arguments': '{\"__arg1\":\"current USD GBP exchange rate\"}', 'name': 'search'}, 'type': 'function'}], 'refusal': None}, response_metadata={'token_usage': {'completion_tokens': 19, 'prompt_tokens': 206, 'total_tokens': 225, 'completion_tokens_details': {'accepted_prediction_tokens': 0, 'audio_tokens': 0, 'reasoning_tokens': 0, 'rejected_prediction_tokens': 0}, 'prompt_tokens_details': {'audio_tokens': 0, 'cached_tokens': 0}}, 'model_name': 'gpt-4o-mini-2024-07-18', 'system_fingerprint': 'fp_560af6e559', 'id': 'chatcmpl-CPSFThHD2tDTdCxkPO2X8PIsOTFFi', 'service_tier': 'default', 'finish_reason': 'tool_calls', 'logprobs': None}, id='run--7454e534-8847-4a53-b265-e2aa141d5931-0', tool_calls=[{'name': 'search', 'args': {'__arg1': 'current USD GBP exchange rate'}, 'id': 'call_I38NMSNCYREfecwbWvDS7bV4', 'type': 'tool_call'}], usage_metadata={'input_tokens': 206, 'output_tokens': 19, 'total_tokens': 225, 'input_token_details': {'audio': 0, 'cache_read': 0}, 'output_token_details': {'audio': 0, 'reasoning': 0}}), ToolMessage(content='0.75 Pound sterling', name='search', id='86c94e0a-1a1c-4e07-98ba-5c3eddae49b6', tool_call_id='call_I38NMSNCYREfecwbWvDS7bV4')]}\n",
      "{'messages': [HumanMessage(content='hi there !', additional_kwargs={}, response_metadata={}, id='1dd57b59-9920-41de-a93f-8be573e96081'), AIMessage(content='Hello! How can I assist you today?', additional_kwargs={'refusal': None}, response_metadata={'token_usage': {'completion_tokens': 10, 'prompt_tokens': 91, 'total_tokens': 101, 'completion_tokens_details': {'accepted_prediction_tokens': 0, 'audio_tokens': 0, 'reasoning_tokens': 0, 'rejected_prediction_tokens': 0}, 'prompt_tokens_details': {'audio_tokens': 0, 'cached_tokens': 0}}, 'model_name': 'gpt-4o-mini-2024-07-18', 'system_fingerprint': 'fp_560af6e559', 'id': 'chatcmpl-CPSCetdwolT4YSiAUeMbzpp09wmif', 'service_tier': 'default', 'finish_reason': 'stop', 'logprobs': None}, id='run--e31612a9-bbb2-41a5-b195-7836621a057d-0', usage_metadata={'input_tokens': 91, 'output_tokens': 10, 'total_tokens': 101, 'input_token_details': {'audio': 0, 'cache_read': 0}, 'output_token_details': {'audio': 0, 'reasoning': 0}}), HumanMessage(content='what is my name ?', additional_kwargs={}, response_metadata={}, id='1324a193-c3bb-4e42-a2da-8fbec7f760aa'), AIMessage(content=\"I'm sorry, but I don't have that information. How would you like me to address you?\", additional_kwargs={'refusal': None}, response_metadata={'token_usage': {'completion_tokens': 20, 'prompt_tokens': 113, 'total_tokens': 133, 'completion_tokens_details': {'accepted_prediction_tokens': 0, 'audio_tokens': 0, 'reasoning_tokens': 0, 'rejected_prediction_tokens': 0}, 'prompt_tokens_details': {'audio_tokens': 0, 'cached_tokens': 0}}, 'model_name': 'gpt-4o-mini-2024-07-18', 'system_fingerprint': 'fp_560af6e559', 'id': 'chatcmpl-CPSCuqSa912cqWgY0pAxYtzKCJlri', 'service_tier': 'default', 'finish_reason': 'stop', 'logprobs': None}, id='run--4f2c6770-4509-4b46-b8eb-ade422d3384f-0', usage_metadata={'input_tokens': 113, 'output_tokens': 20, 'total_tokens': 133, 'input_token_details': {'audio': 0, 'cache_read': 0}, 'output_token_details': {'audio': 0, 'reasoning': 0}}), HumanMessage(content='my name is Yuval ', additional_kwargs={}, response_metadata={}, id='45487db1-1fac-4748-8a2c-05fa75908510'), AIMessage(content='Nice to meet you, Yuval! How can I assist you today?', additional_kwargs={'refusal': None}, response_metadata={'token_usage': {'completion_tokens': 16, 'prompt_tokens': 146, 'total_tokens': 162, 'completion_tokens_details': {'accepted_prediction_tokens': 0, 'audio_tokens': 0, 'reasoning_tokens': 0, 'rejected_prediction_tokens': 0}, 'prompt_tokens_details': {'audio_tokens': 0, 'cached_tokens': 0}}, 'model_name': 'gpt-4o-mini-2024-07-18', 'system_fingerprint': 'fp_560af6e559', 'id': 'chatcmpl-CPSD5giPQ6WRhGmAOUegTItnfYikM', 'service_tier': 'default', 'finish_reason': 'stop', 'logprobs': None}, id='run--85578e30-e56d-4f3a-a96c-339b34e7d8e6-0', usage_metadata={'input_tokens': 146, 'output_tokens': 16, 'total_tokens': 162, 'input_token_details': {'audio': 0, 'cache_read': 0}, 'output_token_details': {'audio': 0, 'reasoning': 0}}), HumanMessage(content='hi there !', additional_kwargs={}, response_metadata={}, id='21df219a-9f83-4ce3-8630-6162ae755e9a'), AIMessage(content='Hello again, Yuval! How can I help you today?', additional_kwargs={'refusal': None}, response_metadata={'token_usage': {'completion_tokens': 14, 'prompt_tokens': 172, 'total_tokens': 186, 'completion_tokens_details': {'accepted_prediction_tokens': 0, 'audio_tokens': 0, 'reasoning_tokens': 0, 'rejected_prediction_tokens': 0}, 'prompt_tokens_details': {'audio_tokens': 0, 'cached_tokens': 0}}, 'model_name': 'gpt-4o-mini-2024-07-18', 'system_fingerprint': 'fp_560af6e559', 'id': 'chatcmpl-CPSEhBKaIEz4DqHe74SJwrLCpVDpR', 'service_tier': 'default', 'finish_reason': 'stop', 'logprobs': None}, id='run--0ac39a00-99f7-4c70-b273-e006ef691d25-0', usage_metadata={'input_tokens': 172, 'output_tokens': 14, 'total_tokens': 186, 'input_token_details': {'audio': 0, 'cache_read': 0}, 'output_token_details': {'audio': 0, 'reasoning': 0}}), HumanMessage(content='Please send me a push notification with the current USD GBP exchange rates', additional_kwargs={}, response_metadata={}, id='d13d3274-077e-4be2-9e2d-c6e4eff10af5'), AIMessage(content='', additional_kwargs={'tool_calls': [{'id': 'call_I38NMSNCYREfecwbWvDS7bV4', 'function': {'arguments': '{\"__arg1\":\"current USD GBP exchange rate\"}', 'name': 'search'}, 'type': 'function'}], 'refusal': None}, response_metadata={'token_usage': {'completion_tokens': 19, 'prompt_tokens': 206, 'total_tokens': 225, 'completion_tokens_details': {'accepted_prediction_tokens': 0, 'audio_tokens': 0, 'reasoning_tokens': 0, 'rejected_prediction_tokens': 0}, 'prompt_tokens_details': {'audio_tokens': 0, 'cached_tokens': 0}}, 'model_name': 'gpt-4o-mini-2024-07-18', 'system_fingerprint': 'fp_560af6e559', 'id': 'chatcmpl-CPSFThHD2tDTdCxkPO2X8PIsOTFFi', 'service_tier': 'default', 'finish_reason': 'tool_calls', 'logprobs': None}, id='run--7454e534-8847-4a53-b265-e2aa141d5931-0', tool_calls=[{'name': 'search', 'args': {'__arg1': 'current USD GBP exchange rate'}, 'id': 'call_I38NMSNCYREfecwbWvDS7bV4', 'type': 'tool_call'}], usage_metadata={'input_tokens': 206, 'output_tokens': 19, 'total_tokens': 225, 'input_token_details': {'audio': 0, 'cache_read': 0}, 'output_token_details': {'audio': 0, 'reasoning': 0}}), ToolMessage(content='0.75 Pound sterling', name='search', id='86c94e0a-1a1c-4e07-98ba-5c3eddae49b6', tool_call_id='call_I38NMSNCYREfecwbWvDS7bV4'), AIMessage(content='', additional_kwargs={'tool_calls': [{'id': 'call_3eFsbCzeSu3QnOWAVAlxAJNR', 'function': {'arguments': '{\"__arg1\":\"The current USD to GBP exchange rate is 0.75.\"}', 'name': 'send_push_notification'}, 'type': 'function'}], 'refusal': None}, response_metadata={'token_usage': {'completion_tokens': 29, 'prompt_tokens': 237, 'total_tokens': 266, 'completion_tokens_details': {'accepted_prediction_tokens': 0, 'audio_tokens': 0, 'reasoning_tokens': 0, 'rejected_prediction_tokens': 0}, 'prompt_tokens_details': {'audio_tokens': 0, 'cached_tokens': 0}}, 'model_name': 'gpt-4o-mini-2024-07-18', 'system_fingerprint': 'fp_560af6e559', 'id': 'chatcmpl-CPSFVBRW9SNCkpTkzAqwqWZgDD5RP', 'service_tier': 'default', 'finish_reason': 'tool_calls', 'logprobs': None}, id='run--bddecdf6-f6bc-4450-aab2-4ad7df86e544-0', tool_calls=[{'name': 'send_push_notification', 'args': {'__arg1': 'The current USD to GBP exchange rate is 0.75.'}, 'id': 'call_3eFsbCzeSu3QnOWAVAlxAJNR', 'type': 'tool_call'}], usage_metadata={'input_tokens': 237, 'output_tokens': 29, 'total_tokens': 266, 'input_token_details': {'audio': 0, 'cache_read': 0}, 'output_token_details': {'audio': 0, 'reasoning': 0}}), ToolMessage(content='null', name='send_push_notification', id='86a7a53a-4eb2-4efe-964a-bf41186fd97c', tool_call_id='call_3eFsbCzeSu3QnOWAVAlxAJNR')]}\n",
      "{'messages': [HumanMessage(content='hi there !', additional_kwargs={}, response_metadata={}, id='1dd57b59-9920-41de-a93f-8be573e96081'), AIMessage(content='Hello! How can I assist you today?', additional_kwargs={'refusal': None}, response_metadata={'token_usage': {'completion_tokens': 10, 'prompt_tokens': 91, 'total_tokens': 101, 'completion_tokens_details': {'accepted_prediction_tokens': 0, 'audio_tokens': 0, 'reasoning_tokens': 0, 'rejected_prediction_tokens': 0}, 'prompt_tokens_details': {'audio_tokens': 0, 'cached_tokens': 0}}, 'model_name': 'gpt-4o-mini-2024-07-18', 'system_fingerprint': 'fp_560af6e559', 'id': 'chatcmpl-CPSCetdwolT4YSiAUeMbzpp09wmif', 'service_tier': 'default', 'finish_reason': 'stop', 'logprobs': None}, id='run--e31612a9-bbb2-41a5-b195-7836621a057d-0', usage_metadata={'input_tokens': 91, 'output_tokens': 10, 'total_tokens': 101, 'input_token_details': {'audio': 0, 'cache_read': 0}, 'output_token_details': {'audio': 0, 'reasoning': 0}}), HumanMessage(content='what is my name ?', additional_kwargs={}, response_metadata={}, id='1324a193-c3bb-4e42-a2da-8fbec7f760aa'), AIMessage(content=\"I'm sorry, but I don't have that information. How would you like me to address you?\", additional_kwargs={'refusal': None}, response_metadata={'token_usage': {'completion_tokens': 20, 'prompt_tokens': 113, 'total_tokens': 133, 'completion_tokens_details': {'accepted_prediction_tokens': 0, 'audio_tokens': 0, 'reasoning_tokens': 0, 'rejected_prediction_tokens': 0}, 'prompt_tokens_details': {'audio_tokens': 0, 'cached_tokens': 0}}, 'model_name': 'gpt-4o-mini-2024-07-18', 'system_fingerprint': 'fp_560af6e559', 'id': 'chatcmpl-CPSCuqSa912cqWgY0pAxYtzKCJlri', 'service_tier': 'default', 'finish_reason': 'stop', 'logprobs': None}, id='run--4f2c6770-4509-4b46-b8eb-ade422d3384f-0', usage_metadata={'input_tokens': 113, 'output_tokens': 20, 'total_tokens': 133, 'input_token_details': {'audio': 0, 'cache_read': 0}, 'output_token_details': {'audio': 0, 'reasoning': 0}}), HumanMessage(content='my name is Yuval ', additional_kwargs={}, response_metadata={}, id='45487db1-1fac-4748-8a2c-05fa75908510'), AIMessage(content='Nice to meet you, Yuval! How can I assist you today?', additional_kwargs={'refusal': None}, response_metadata={'token_usage': {'completion_tokens': 16, 'prompt_tokens': 146, 'total_tokens': 162, 'completion_tokens_details': {'accepted_prediction_tokens': 0, 'audio_tokens': 0, 'reasoning_tokens': 0, 'rejected_prediction_tokens': 0}, 'prompt_tokens_details': {'audio_tokens': 0, 'cached_tokens': 0}}, 'model_name': 'gpt-4o-mini-2024-07-18', 'system_fingerprint': 'fp_560af6e559', 'id': 'chatcmpl-CPSD5giPQ6WRhGmAOUegTItnfYikM', 'service_tier': 'default', 'finish_reason': 'stop', 'logprobs': None}, id='run--85578e30-e56d-4f3a-a96c-339b34e7d8e6-0', usage_metadata={'input_tokens': 146, 'output_tokens': 16, 'total_tokens': 162, 'input_token_details': {'audio': 0, 'cache_read': 0}, 'output_token_details': {'audio': 0, 'reasoning': 0}}), HumanMessage(content='hi there !', additional_kwargs={}, response_metadata={}, id='21df219a-9f83-4ce3-8630-6162ae755e9a'), AIMessage(content='Hello again, Yuval! How can I help you today?', additional_kwargs={'refusal': None}, response_metadata={'token_usage': {'completion_tokens': 14, 'prompt_tokens': 172, 'total_tokens': 186, 'completion_tokens_details': {'accepted_prediction_tokens': 0, 'audio_tokens': 0, 'reasoning_tokens': 0, 'rejected_prediction_tokens': 0}, 'prompt_tokens_details': {'audio_tokens': 0, 'cached_tokens': 0}}, 'model_name': 'gpt-4o-mini-2024-07-18', 'system_fingerprint': 'fp_560af6e559', 'id': 'chatcmpl-CPSEhBKaIEz4DqHe74SJwrLCpVDpR', 'service_tier': 'default', 'finish_reason': 'stop', 'logprobs': None}, id='run--0ac39a00-99f7-4c70-b273-e006ef691d25-0', usage_metadata={'input_tokens': 172, 'output_tokens': 14, 'total_tokens': 186, 'input_token_details': {'audio': 0, 'cache_read': 0}, 'output_token_details': {'audio': 0, 'reasoning': 0}}), HumanMessage(content='Please send me a push notification with the current USD GBP exchange rates', additional_kwargs={}, response_metadata={}, id='d13d3274-077e-4be2-9e2d-c6e4eff10af5'), AIMessage(content='', additional_kwargs={'tool_calls': [{'id': 'call_I38NMSNCYREfecwbWvDS7bV4', 'function': {'arguments': '{\"__arg1\":\"current USD GBP exchange rate\"}', 'name': 'search'}, 'type': 'function'}], 'refusal': None}, response_metadata={'token_usage': {'completion_tokens': 19, 'prompt_tokens': 206, 'total_tokens': 225, 'completion_tokens_details': {'accepted_prediction_tokens': 0, 'audio_tokens': 0, 'reasoning_tokens': 0, 'rejected_prediction_tokens': 0}, 'prompt_tokens_details': {'audio_tokens': 0, 'cached_tokens': 0}}, 'model_name': 'gpt-4o-mini-2024-07-18', 'system_fingerprint': 'fp_560af6e559', 'id': 'chatcmpl-CPSFThHD2tDTdCxkPO2X8PIsOTFFi', 'service_tier': 'default', 'finish_reason': 'tool_calls', 'logprobs': None}, id='run--7454e534-8847-4a53-b265-e2aa141d5931-0', tool_calls=[{'name': 'search', 'args': {'__arg1': 'current USD GBP exchange rate'}, 'id': 'call_I38NMSNCYREfecwbWvDS7bV4', 'type': 'tool_call'}], usage_metadata={'input_tokens': 206, 'output_tokens': 19, 'total_tokens': 225, 'input_token_details': {'audio': 0, 'cache_read': 0}, 'output_token_details': {'audio': 0, 'reasoning': 0}}), ToolMessage(content='0.75 Pound sterling', name='search', id='86c94e0a-1a1c-4e07-98ba-5c3eddae49b6', tool_call_id='call_I38NMSNCYREfecwbWvDS7bV4'), AIMessage(content='', additional_kwargs={'tool_calls': [{'id': 'call_3eFsbCzeSu3QnOWAVAlxAJNR', 'function': {'arguments': '{\"__arg1\":\"The current USD to GBP exchange rate is 0.75.\"}', 'name': 'send_push_notification'}, 'type': 'function'}], 'refusal': None}, response_metadata={'token_usage': {'completion_tokens': 29, 'prompt_tokens': 237, 'total_tokens': 266, 'completion_tokens_details': {'accepted_prediction_tokens': 0, 'audio_tokens': 0, 'reasoning_tokens': 0, 'rejected_prediction_tokens': 0}, 'prompt_tokens_details': {'audio_tokens': 0, 'cached_tokens': 0}}, 'model_name': 'gpt-4o-mini-2024-07-18', 'system_fingerprint': 'fp_560af6e559', 'id': 'chatcmpl-CPSFVBRW9SNCkpTkzAqwqWZgDD5RP', 'service_tier': 'default', 'finish_reason': 'tool_calls', 'logprobs': None}, id='run--bddecdf6-f6bc-4450-aab2-4ad7df86e544-0', tool_calls=[{'name': 'send_push_notification', 'args': {'__arg1': 'The current USD to GBP exchange rate is 0.75.'}, 'id': 'call_3eFsbCzeSu3QnOWAVAlxAJNR', 'type': 'tool_call'}], usage_metadata={'input_tokens': 237, 'output_tokens': 29, 'total_tokens': 266, 'input_token_details': {'audio': 0, 'cache_read': 0}, 'output_token_details': {'audio': 0, 'reasoning': 0}}), ToolMessage(content='null', name='send_push_notification', id='86a7a53a-4eb2-4efe-964a-bf41186fd97c', tool_call_id='call_3eFsbCzeSu3QnOWAVAlxAJNR'), AIMessage(content=\"I've sent you a push notification with the current USD to GBP exchange rate: 0.75. If you need anything else, just let me know!\", additional_kwargs={'refusal': None}, response_metadata={'token_usage': {'completion_tokens': 32, 'prompt_tokens': 276, 'total_tokens': 308, 'completion_tokens_details': {'accepted_prediction_tokens': 0, 'audio_tokens': 0, 'reasoning_tokens': 0, 'rejected_prediction_tokens': 0}, 'prompt_tokens_details': {'audio_tokens': 0, 'cached_tokens': 0}}, 'model_name': 'gpt-4o-mini-2024-07-18', 'system_fingerprint': 'fp_560af6e559', 'id': 'chatcmpl-CPSFX3cU5DL9IRmi3q4NLsKLr0cd7', 'service_tier': 'default', 'finish_reason': 'stop', 'logprobs': None}, id='run--aab80ed8-a7b7-4100-a14a-1abec278101f-0', usage_metadata={'input_tokens': 276, 'output_tokens': 32, 'total_tokens': 308, 'input_token_details': {'audio': 0, 'cache_read': 0}, 'output_token_details': {'audio': 0, 'reasoning': 0}}), HumanMessage(content='can you sen that push notification again please ?', additional_kwargs={}, response_metadata={}, id='f3bddf06-ac10-4e86-9ec4-881961b8025a')]}\n",
      "{'messages': [HumanMessage(content='hi there !', additional_kwargs={}, response_metadata={}, id='1dd57b59-9920-41de-a93f-8be573e96081'), AIMessage(content='Hello! How can I assist you today?', additional_kwargs={'refusal': None}, response_metadata={'token_usage': {'completion_tokens': 10, 'prompt_tokens': 91, 'total_tokens': 101, 'completion_tokens_details': {'accepted_prediction_tokens': 0, 'audio_tokens': 0, 'reasoning_tokens': 0, 'rejected_prediction_tokens': 0}, 'prompt_tokens_details': {'audio_tokens': 0, 'cached_tokens': 0}}, 'model_name': 'gpt-4o-mini-2024-07-18', 'system_fingerprint': 'fp_560af6e559', 'id': 'chatcmpl-CPSCetdwolT4YSiAUeMbzpp09wmif', 'service_tier': 'default', 'finish_reason': 'stop', 'logprobs': None}, id='run--e31612a9-bbb2-41a5-b195-7836621a057d-0', usage_metadata={'input_tokens': 91, 'output_tokens': 10, 'total_tokens': 101, 'input_token_details': {'audio': 0, 'cache_read': 0}, 'output_token_details': {'audio': 0, 'reasoning': 0}}), HumanMessage(content='what is my name ?', additional_kwargs={}, response_metadata={}, id='1324a193-c3bb-4e42-a2da-8fbec7f760aa'), AIMessage(content=\"I'm sorry, but I don't have that information. How would you like me to address you?\", additional_kwargs={'refusal': None}, response_metadata={'token_usage': {'completion_tokens': 20, 'prompt_tokens': 113, 'total_tokens': 133, 'completion_tokens_details': {'accepted_prediction_tokens': 0, 'audio_tokens': 0, 'reasoning_tokens': 0, 'rejected_prediction_tokens': 0}, 'prompt_tokens_details': {'audio_tokens': 0, 'cached_tokens': 0}}, 'model_name': 'gpt-4o-mini-2024-07-18', 'system_fingerprint': 'fp_560af6e559', 'id': 'chatcmpl-CPSCuqSa912cqWgY0pAxYtzKCJlri', 'service_tier': 'default', 'finish_reason': 'stop', 'logprobs': None}, id='run--4f2c6770-4509-4b46-b8eb-ade422d3384f-0', usage_metadata={'input_tokens': 113, 'output_tokens': 20, 'total_tokens': 133, 'input_token_details': {'audio': 0, 'cache_read': 0}, 'output_token_details': {'audio': 0, 'reasoning': 0}}), HumanMessage(content='my name is Yuval ', additional_kwargs={}, response_metadata={}, id='45487db1-1fac-4748-8a2c-05fa75908510'), AIMessage(content='Nice to meet you, Yuval! How can I assist you today?', additional_kwargs={'refusal': None}, response_metadata={'token_usage': {'completion_tokens': 16, 'prompt_tokens': 146, 'total_tokens': 162, 'completion_tokens_details': {'accepted_prediction_tokens': 0, 'audio_tokens': 0, 'reasoning_tokens': 0, 'rejected_prediction_tokens': 0}, 'prompt_tokens_details': {'audio_tokens': 0, 'cached_tokens': 0}}, 'model_name': 'gpt-4o-mini-2024-07-18', 'system_fingerprint': 'fp_560af6e559', 'id': 'chatcmpl-CPSD5giPQ6WRhGmAOUegTItnfYikM', 'service_tier': 'default', 'finish_reason': 'stop', 'logprobs': None}, id='run--85578e30-e56d-4f3a-a96c-339b34e7d8e6-0', usage_metadata={'input_tokens': 146, 'output_tokens': 16, 'total_tokens': 162, 'input_token_details': {'audio': 0, 'cache_read': 0}, 'output_token_details': {'audio': 0, 'reasoning': 0}}), HumanMessage(content='hi there !', additional_kwargs={}, response_metadata={}, id='21df219a-9f83-4ce3-8630-6162ae755e9a'), AIMessage(content='Hello again, Yuval! How can I help you today?', additional_kwargs={'refusal': None}, response_metadata={'token_usage': {'completion_tokens': 14, 'prompt_tokens': 172, 'total_tokens': 186, 'completion_tokens_details': {'accepted_prediction_tokens': 0, 'audio_tokens': 0, 'reasoning_tokens': 0, 'rejected_prediction_tokens': 0}, 'prompt_tokens_details': {'audio_tokens': 0, 'cached_tokens': 0}}, 'model_name': 'gpt-4o-mini-2024-07-18', 'system_fingerprint': 'fp_560af6e559', 'id': 'chatcmpl-CPSEhBKaIEz4DqHe74SJwrLCpVDpR', 'service_tier': 'default', 'finish_reason': 'stop', 'logprobs': None}, id='run--0ac39a00-99f7-4c70-b273-e006ef691d25-0', usage_metadata={'input_tokens': 172, 'output_tokens': 14, 'total_tokens': 186, 'input_token_details': {'audio': 0, 'cache_read': 0}, 'output_token_details': {'audio': 0, 'reasoning': 0}}), HumanMessage(content='Please send me a push notification with the current USD GBP exchange rates', additional_kwargs={}, response_metadata={}, id='d13d3274-077e-4be2-9e2d-c6e4eff10af5'), AIMessage(content='', additional_kwargs={'tool_calls': [{'id': 'call_I38NMSNCYREfecwbWvDS7bV4', 'function': {'arguments': '{\"__arg1\":\"current USD GBP exchange rate\"}', 'name': 'search'}, 'type': 'function'}], 'refusal': None}, response_metadata={'token_usage': {'completion_tokens': 19, 'prompt_tokens': 206, 'total_tokens': 225, 'completion_tokens_details': {'accepted_prediction_tokens': 0, 'audio_tokens': 0, 'reasoning_tokens': 0, 'rejected_prediction_tokens': 0}, 'prompt_tokens_details': {'audio_tokens': 0, 'cached_tokens': 0}}, 'model_name': 'gpt-4o-mini-2024-07-18', 'system_fingerprint': 'fp_560af6e559', 'id': 'chatcmpl-CPSFThHD2tDTdCxkPO2X8PIsOTFFi', 'service_tier': 'default', 'finish_reason': 'tool_calls', 'logprobs': None}, id='run--7454e534-8847-4a53-b265-e2aa141d5931-0', tool_calls=[{'name': 'search', 'args': {'__arg1': 'current USD GBP exchange rate'}, 'id': 'call_I38NMSNCYREfecwbWvDS7bV4', 'type': 'tool_call'}], usage_metadata={'input_tokens': 206, 'output_tokens': 19, 'total_tokens': 225, 'input_token_details': {'audio': 0, 'cache_read': 0}, 'output_token_details': {'audio': 0, 'reasoning': 0}}), ToolMessage(content='0.75 Pound sterling', name='search', id='86c94e0a-1a1c-4e07-98ba-5c3eddae49b6', tool_call_id='call_I38NMSNCYREfecwbWvDS7bV4'), AIMessage(content='', additional_kwargs={'tool_calls': [{'id': 'call_3eFsbCzeSu3QnOWAVAlxAJNR', 'function': {'arguments': '{\"__arg1\":\"The current USD to GBP exchange rate is 0.75.\"}', 'name': 'send_push_notification'}, 'type': 'function'}], 'refusal': None}, response_metadata={'token_usage': {'completion_tokens': 29, 'prompt_tokens': 237, 'total_tokens': 266, 'completion_tokens_details': {'accepted_prediction_tokens': 0, 'audio_tokens': 0, 'reasoning_tokens': 0, 'rejected_prediction_tokens': 0}, 'prompt_tokens_details': {'audio_tokens': 0, 'cached_tokens': 0}}, 'model_name': 'gpt-4o-mini-2024-07-18', 'system_fingerprint': 'fp_560af6e559', 'id': 'chatcmpl-CPSFVBRW9SNCkpTkzAqwqWZgDD5RP', 'service_tier': 'default', 'finish_reason': 'tool_calls', 'logprobs': None}, id='run--bddecdf6-f6bc-4450-aab2-4ad7df86e544-0', tool_calls=[{'name': 'send_push_notification', 'args': {'__arg1': 'The current USD to GBP exchange rate is 0.75.'}, 'id': 'call_3eFsbCzeSu3QnOWAVAlxAJNR', 'type': 'tool_call'}], usage_metadata={'input_tokens': 237, 'output_tokens': 29, 'total_tokens': 266, 'input_token_details': {'audio': 0, 'cache_read': 0}, 'output_token_details': {'audio': 0, 'reasoning': 0}}), ToolMessage(content='null', name='send_push_notification', id='86a7a53a-4eb2-4efe-964a-bf41186fd97c', tool_call_id='call_3eFsbCzeSu3QnOWAVAlxAJNR'), AIMessage(content=\"I've sent you a push notification with the current USD to GBP exchange rate: 0.75. If you need anything else, just let me know!\", additional_kwargs={'refusal': None}, response_metadata={'token_usage': {'completion_tokens': 32, 'prompt_tokens': 276, 'total_tokens': 308, 'completion_tokens_details': {'accepted_prediction_tokens': 0, 'audio_tokens': 0, 'reasoning_tokens': 0, 'rejected_prediction_tokens': 0}, 'prompt_tokens_details': {'audio_tokens': 0, 'cached_tokens': 0}}, 'model_name': 'gpt-4o-mini-2024-07-18', 'system_fingerprint': 'fp_560af6e559', 'id': 'chatcmpl-CPSFX3cU5DL9IRmi3q4NLsKLr0cd7', 'service_tier': 'default', 'finish_reason': 'stop', 'logprobs': None}, id='run--aab80ed8-a7b7-4100-a14a-1abec278101f-0', usage_metadata={'input_tokens': 276, 'output_tokens': 32, 'total_tokens': 308, 'input_token_details': {'audio': 0, 'cache_read': 0}, 'output_token_details': {'audio': 0, 'reasoning': 0}}), HumanMessage(content='can you sen that push notification again please ?', additional_kwargs={}, response_metadata={}, id='f3bddf06-ac10-4e86-9ec4-881961b8025a'), AIMessage(content='', additional_kwargs={'tool_calls': [{'id': 'call_zVkWER3LWLWezb4G2CMsJHpp', 'function': {'arguments': '{\"__arg1\":\"The current USD to GBP exchange rate is 0.75.\"}', 'name': 'send_push_notification'}, 'type': 'function'}], 'refusal': None}, response_metadata={'token_usage': {'completion_tokens': 29, 'prompt_tokens': 324, 'total_tokens': 353, 'completion_tokens_details': {'accepted_prediction_tokens': 0, 'audio_tokens': 0, 'reasoning_tokens': 0, 'rejected_prediction_tokens': 0}, 'prompt_tokens_details': {'audio_tokens': 0, 'cached_tokens': 0}}, 'model_name': 'gpt-4o-mini-2024-07-18', 'system_fingerprint': 'fp_560af6e559', 'id': 'chatcmpl-CPSG4UdpVZGuZtcfxdaO8e2c1Bn9q', 'service_tier': 'default', 'finish_reason': 'tool_calls', 'logprobs': None}, id='run--2a66f09f-ff26-4c64-ac36-b9db42ef6bd1-0', tool_calls=[{'name': 'send_push_notification', 'args': {'__arg1': 'The current USD to GBP exchange rate is 0.75.'}, 'id': 'call_zVkWER3LWLWezb4G2CMsJHpp', 'type': 'tool_call'}], usage_metadata={'input_tokens': 324, 'output_tokens': 29, 'total_tokens': 353, 'input_token_details': {'audio': 0, 'cache_read': 0}, 'output_token_details': {'audio': 0, 'reasoning': 0}}), ToolMessage(content='null', name='send_push_notification', id='8487046c-4dd1-4291-9b23-87181e625c17', tool_call_id='call_zVkWER3LWLWezb4G2CMsJHpp')]}\n"
     ]
    }
   ],
   "source": [
    "config = {\"configurable\": {\"thread_id\": \"2\"}}\n",
    "\n",
    "def chat(user_input: str, history):\n",
    "    result = graph.invoke({\"messages\": [{\"role\": \"user\", \"content\": user_input}]}, config=config)\n",
    "    return result[\"messages\"][-1].content\n",
    "\n",
    "\n",
    "gr.ChatInterface(chat, type=\"messages\").launch()"
   ]
  },
  {
   "cell_type": "code",
   "execution_count": null,
   "metadata": {},
   "outputs": [],
   "source": []
  }
 ],
 "metadata": {
  "kernelspec": {
   "display_name": ".venv",
   "language": "python",
   "name": "python3"
  },
  "language_info": {
   "codemirror_mode": {
    "name": "ipython",
    "version": 3
   },
   "file_extension": ".py",
   "mimetype": "text/x-python",
   "name": "python",
   "nbconvert_exporter": "python",
   "pygments_lexer": "ipython3",
   "version": "3.12.9"
  }
 },
 "nbformat": 4,
 "nbformat_minor": 2
}
