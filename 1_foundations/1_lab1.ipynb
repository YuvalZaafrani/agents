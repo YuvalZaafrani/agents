{
 "cells": [
  {
   "cell_type": "markdown",
   "metadata": {},
   "source": [
    "# Welcome to the start of your adventure in Agentic AI"
   ]
  },
  {
   "cell_type": "markdown",
   "metadata": {},
   "source": [
    "<table style=\"margin: 0; text-align: left; width:100%\">\n",
    "    <tr>\n",
    "        <td style=\"width: 150px; height: 150px; vertical-align: middle;\">\n",
    "            <img src=\"../assets/stop.png\" width=\"150\" height=\"150\" style=\"display: block;\" />\n",
    "        </td>\n",
    "        <td>\n",
    "            <h2 style=\"color:#ff7800;\">Are you ready for action??</h2>\n",
    "            <span style=\"color:#ff7800;\">Have you completed all the setup steps in the <a href=\"../setup/\">setup</a> folder?<br/>\n",
    "            Have you read the <a href=\"../README.md\">README</a>? Many common questions are answered here!<br/>\n",
    "            Have you checked out the guides in the <a href=\"../guides/01_intro.ipynb\">guides</a> folder?<br/>\n",
    "            Well in that case, you're ready!!\n",
    "            </span>\n",
    "        </td>\n",
    "    </tr>\n",
    "</table>"
   ]
  },
  {
   "cell_type": "markdown",
   "metadata": {},
   "source": [
    "<table style=\"margin: 0; text-align: left; width:100%\">\n",
    "    <tr>\n",
    "        <td style=\"width: 150px; height: 150px; vertical-align: middle;\">\n",
    "            <img src=\"../assets/tools.png\" width=\"150\" height=\"150\" style=\"display: block;\" />\n",
    "        </td>\n",
    "        <td>\n",
    "            <h2 style=\"color:#00bfff;\">This code is a live resource - keep an eye out for my updates</h2>\n",
    "            <span style=\"color:#00bfff;\">I push updates regularly. As people ask questions or have problems, I add more examples and improve explanations. As a result, the code below might not be identical to the videos, as I've added more steps and better comments. Consider this like an interactive book that accompanies the lectures.<br/><br/>\n",
    "            I try to send emails regularly with important updates related to the course. You can find this in the 'Announcements' section of Udemy in the left sidebar. You can also choose to receive my emails via your Notification Settings in Udemy. I'm respectful of your inbox and always try to add value with my emails!\n",
    "            </span>\n",
    "        </td>\n",
    "    </tr>\n",
    "</table>"
   ]
  },
  {
   "cell_type": "markdown",
   "metadata": {},
   "source": [
    "### And please do remember to contact me if I can help\n",
    "\n",
    "And I love to connect: https://www.linkedin.com/in/eddonner/\n",
    "\n",
    "\n",
    "### New to Notebooks like this one? Head over to the guides folder!\n",
    "\n",
    "Just to check you've already added the Python and Jupyter extensions to Cursor, if not already installed:\n",
    "- Open extensions (View >> extensions)\n",
    "- Search for python, and when the results show, click on the ms-python one, and Install it if not already installed\n",
    "- Search for jupyter, and when the results show, click on the Microsoft one, and Install it if not already installed  \n",
    "Then View >> Explorer to bring back the File Explorer.\n",
    "\n",
    "And then:\n",
    "1. Click where it says \"Select Kernel\" near the top right, and select the option called `.venv (Python 3.12.9)` or similar, which should be the first choice or the most prominent choice. You may need to choose \"Python Environments\" first.\n",
    "2. Click in each \"cell\" below, starting with the cell immediately below this text, and press Shift+Enter to run\n",
    "3. Enjoy!\n",
    "\n",
    "After you click \"Select Kernel\", if there is no option like `.venv (Python 3.12.9)` then please do the following:  \n",
    "1. On Mac: From the Cursor menu, choose Settings >> VS Code Settings (NOTE: be sure to select `VSCode Settings` not `Cursor Settings`);  \n",
    "On Windows PC: From the File menu, choose Preferences >> VS Code Settings(NOTE: be sure to select `VSCode Settings` not `Cursor Settings`)  \n",
    "2. In the Settings search bar, type \"venv\"  \n",
    "3. In the field \"Path to folder with a list of Virtual Environments\" put the path to the project root, like C:\\Users\\username\\projects\\agents (on a Windows PC) or /Users/username/projects/agents (on Mac or Linux).  \n",
    "And then try again.\n",
    "\n",
    "Having problems with missing Python versions in that list? Have you ever used Anaconda before? It might be interferring. Quit Cursor, bring up a new command line, and make sure that your Anaconda environment is deactivated:    \n",
    "`conda deactivate`  \n",
    "And if you still have any problems with conda and python versions, it's possible that you will need to run this too:  \n",
    "`conda config --set auto_activate_base false`  \n",
    "and then from within the Agents directory, you should be able to run `uv python list` and see the Python 3.12 version."
   ]
  },
  {
   "cell_type": "code",
   "execution_count": null,
   "metadata": {},
   "outputs": [],
   "source": [
    "# First let's do an import. If you get an Import Error, double check that your Kernel is correct..\n",
    "\n",
    "from dotenv import load_dotenv\n"
   ]
  },
  {
   "cell_type": "code",
   "execution_count": null,
   "metadata": {},
   "outputs": [],
   "source": [
    "# Next it's time to load the API keys into environment variables\n",
    "# If this returns false, see the next cell!\n",
    "\n",
    "load_dotenv(override=True)"
   ]
  },
  {
   "cell_type": "markdown",
   "metadata": {},
   "source": [
    "### Wait, did that just output `False`??\n",
    "\n",
    "If so, the most common reason is that you didn't save your `.env` file after adding the key! Be sure to have saved.\n",
    "\n",
    "Also, make sure the `.env` file is named precisely `.env` and is in the project root directory (`agents`)\n",
    "\n",
    "By the way, your `.env` file should have a stop symbol next to it in Cursor on the left, and that's actually a good thing: that's Cursor saying to you, \"hey, I realize this is a file filled with secret information, and I'm not going to send it to an external AI to suggest changes, because your keys should not be shown to anyone else.\""
   ]
  },
  {
   "cell_type": "markdown",
   "metadata": {},
   "source": [
    "<table style=\"margin: 0; text-align: left; width:100%\">\n",
    "    <tr>\n",
    "        <td style=\"width: 150px; height: 150px; vertical-align: middle;\">\n",
    "            <img src=\"../assets/stop.png\" width=\"150\" height=\"150\" style=\"display: block;\" />\n",
    "        </td>\n",
    "        <td>\n",
    "            <h2 style=\"color:#ff7800;\">Final reminders</h2>\n",
    "            <span style=\"color:#ff7800;\">1. If you're not confident about Environment Variables or Web Endpoints / APIs, please read Topics 3 and 5 in this <a href=\"../guides/04_technical_foundations.ipynb\">technical foundations guide</a>.<br/>\n",
    "            2. If you want to use AIs other than OpenAI, like Gemini, DeepSeek or Ollama (free), please see the first section in this <a href=\"../guides/09_ai_apis_and_ollama.ipynb\">AI APIs guide</a>.<br/>\n",
    "            3. If you ever get a Name Error in Python, you can always fix it immediately; see the last section of this <a href=\"../guides/06_python_foundations.ipynb\">Python Foundations guide</a> and follow both tutorials and exercises.<br/>\n",
    "            </span>\n",
    "        </td>\n",
    "    </tr>\n",
    "</table>"
   ]
  },
  {
   "cell_type": "code",
   "execution_count": null,
   "metadata": {},
   "outputs": [],
   "source": [
    "# Check the key - if you're not using OpenAI, check whichever key you're using! Ollama doesn't need a key.\n",
    "\n",
    "import os\n",
    "openai_api_key = os.getenv('OPENAI_API_KEY')\n",
    "\n",
    "if openai_api_key:\n",
    "    print(f\"OpenAI API Key exists and begins {openai_api_key[:8]}\")\n",
    "else:\n",
    "    print(\"OpenAI API Key not set - please head to the troubleshooting guide in the setup folder\")\n",
    "    \n"
   ]
  },
  {
   "cell_type": "code",
   "execution_count": 1,
   "metadata": {},
   "outputs": [],
   "source": [
    "# And now - the all important import statement\n",
    "# If you get an import error - head over to troubleshooting in the Setup folder\n",
    "# Even for other LLM providers like Gemini, you still use this OpenAI import - see Guide 9 for why\n",
    "\n",
    "from openai import OpenAI"
   ]
  },
  {
   "cell_type": "code",
   "execution_count": 4,
   "metadata": {},
   "outputs": [],
   "source": [
    "# And now we'll create an instance of the OpenAI class\n",
    "# If you're not sure what it means to create an instance of a class - head over to the guides folder (guide 6)!\n",
    "# If you get a NameError - head over to the guides folder (guide 6)to learn about NameErrors - always instantly fixable\n",
    "# If you're not using OpenAI, you just need to slightly modify this - precise instructions are in the AI APIs guide (guide 9)\n",
    "\n",
    "# openai = OpenAI() # client - real use OpenAI \n",
    "# Use Ollama for free \n",
    "client = OpenAI(base_url=\"http://localhost:11434/v1\", api_key=\"ollama\")\n"
   ]
  },
  {
   "cell_type": "code",
   "execution_count": 4,
   "metadata": {},
   "outputs": [],
   "source": [
    "# Create a list of messages in the familiar OpenAI format\n",
    "\n",
    "messages = [{\"role\": \"user\", \"content\": \"What is 2+2?\"}]"
   ]
  },
  {
   "cell_type": "code",
   "execution_count": 5,
   "metadata": {},
   "outputs": [
    {
     "name": "stdout",
     "output_type": "stream",
     "text": [
      "2 + 2 = 4.\n"
     ]
    }
   ],
   "source": [
    "# And now call it! Any problems, head to the troubleshooting guide\n",
    "# This uses GPT 4.1 nano, the incredibly cheap model\n",
    "# The APIs guide (guide 9) has exact instructions for using even cheaper or free alternatives to OpenAI\n",
    "# If you get a NameError, head to the guides folder (guide 6) to learn about NameErrors - always instantly fixable\n",
    "\n",
    "response = client.chat.completions.create(\n",
    "    model=\"llama3.2\",\n",
    "    messages=messages\n",
    ")\n",
    "\n",
    "print(response.choices[0].message.content)\n"
   ]
  },
  {
   "cell_type": "code",
   "execution_count": 6,
   "metadata": {},
   "outputs": [],
   "source": [
    "# And now - let's ask for a question:\n",
    "\n",
    "question = \"Please propose a hard, challenging question to assess someone's IQ. Respond only with the question.\"\n",
    "messages = [{\"role\": \"user\", \"content\": question}]\n"
   ]
  },
  {
   "cell_type": "code",
   "execution_count": 7,
   "metadata": {},
   "outputs": [
    {
     "name": "stdout",
     "output_type": "stream",
     "text": [
      "What is the value of the following expression, given the constraints:\n",
      "\n",
      "log2(8x5) - log2(x^5 + x)\n",
      "\n",
      "Where a, b, c, and d are positive integers, but x cannot be rewritten in terms of other elementary operations such as addition, subtraction, or exponentiation?\n"
     ]
    }
   ],
   "source": [
    "# ask it - this uses GPT 4.1 mini, still cheap but more powerful than nano\n",
    "\n",
    "response = client.chat.completions.create(\n",
    "    model=\"llama3.2\",\n",
    "    messages=messages\n",
    ")\n",
    "\n",
    "question = response.choices[0].message.content\n",
    "\n",
    "print(question)\n"
   ]
  },
  {
   "cell_type": "code",
   "execution_count": 8,
   "metadata": {},
   "outputs": [],
   "source": [
    "# form a new messages list\n",
    "messages = [{\"role\": \"user\", \"content\": question}]\n"
   ]
  },
  {
   "cell_type": "code",
   "execution_count": 9,
   "metadata": {},
   "outputs": [
    {
     "name": "stdout",
     "output_type": "stream",
     "text": [
      "To solve the expression, we can use logarithmic identities to simplify it.\n",
      "\n",
      "log2(8x5) - log2(x^5 + x)\n",
      "\n",
      "= log2(8/4x + 5) - log2(x^5 + x)\n",
      "\n",
      "We know:\n",
      "\n",
      "1/x+1/3x =2\n",
      "\n",
      "0. \n",
      "\n",
      "Now we just plug in this value.\n",
      "\n",
      "log2(4x + 5) - log2(x^2 (x^2+1))\n",
      "\n",
      "= log2((x²+1)/(x²)x)\n",
      "\n",
      "= log2(1/(x³)) \n",
      "\n",
      "Since the original equation was log2(8/4x+5)-log2(x^(5)+x), then\n",
      "\n",
      "log2(  x +3)\n"
     ]
    }
   ],
   "source": [
    "# Ask it again\n",
    "\n",
    "response = client.chat.completions.create(\n",
    "    model=\"llama3.2\",\n",
    "    messages=messages\n",
    ")\n",
    "\n",
    "answer = response.choices[0].message.content\n",
    "print(answer)\n"
   ]
  },
  {
   "cell_type": "code",
   "execution_count": null,
   "metadata": {},
   "outputs": [],
   "source": [
    "from IPython.display import Markdown, display\n",
    "# more nicely format to the answer\n",
    "# NOTE: for \\n like print -> \\n\\n or <br>\n",
    "display(Markdown(answer)) \n",
    "\n"
   ]
  },
  {
   "cell_type": "markdown",
   "metadata": {},
   "source": [
    "# Congratulations!\n",
    "\n",
    "That was a small, simple step in the direction of Agentic AI, with your new environment!\n",
    "\n",
    "Next time things get more interesting..."
   ]
  },
  {
   "cell_type": "markdown",
   "metadata": {},
   "source": [
    "<table style=\"margin: 0; text-align: left; width:100%\">\n",
    "    <tr>\n",
    "        <td style=\"width: 150px; height: 150px; vertical-align: middle;\">\n",
    "            <img src=\"../assets/exercise.png\" width=\"150\" height=\"150\" style=\"display: block;\" />\n",
    "        </td>\n",
    "        <td>\n",
    "            <h2 style=\"color:#ff7800;\">Exercise</h2>\n",
    "            <span style=\"color:#ff7800;\">Now try this commercial application:<br/>\n",
    "            First ask the LLM to pick a business area that might be worth exploring for an Agentic AI opportunity.<br/>\n",
    "            Then ask the LLM to present a pain-point in that industry - something challenging that might be ripe for an Agentic solution.<br/>\n",
    "            Finally have 3 third LLM call propose the Agentic AI solution. <br/>\n",
    "            We will cover this at up-coming labs, so don't worry if you're unsure.. just give it a try!\n",
    "            </span>\n",
    "        </td>\n",
    "    </tr>\n",
    "</table>"
   ]
  },
  {
   "cell_type": "code",
   "execution_count": null,
   "metadata": {},
   "outputs": [],
   "source": [
    "# Helper func to send message to the model are return the response text.\n",
    "def ask(prompt, message=None):\n",
    "    history = message or []\n",
    "    # We save the history each time so that the model remembers the context during the conversation.\n",
    "    history.append({\"role\": \"user\", \"content\": prompt}) \n",
    "    resp = client.chat.completions.create(model=\"llama3.2\", messages=history)\n",
    "    answer = resp.choices[0].message.content.strip()\n",
    "    return answer, history\n",
    "\n",
    "def main():\n",
    "    print(\"=== Exercise: Identify an Agentic AI Business Opportunity ===\\n\")\n",
    "\n",
    "    # Step 1: Pick a business area\n",
    "    p1 = (\"Pick a business area that could be interesting for an Agentic AI opportunity. \"\n",
    "          \"Answer with the name of the area and a short note on why it matters.\")\n",
    "    area, h = ask(p1)\n",
    "    display(Markdown(f\"**[1] Suggested Business Area:** {area}\\n\\n\"))\n",
    "\n",
    "    # Step 2: Identify a pain point\n",
    "    p2 = (\"For the chosen area, describe one main pain point: what the problem is, \"\n",
    "          \"who suffers from it, and how success could be measured if solved. \"\n",
    "          \"Keep it to three short sentences.\")\n",
    "    pain, h = ask(p2, h)\n",
    "    display(Markdown(f\"**[2] Pain Point:** {pain}\\n\\n\"))\n",
    "\n",
    "    # Step 3: Propose an Agentic AI solution\n",
    "    p3 = (\"Now propose an Agentic AI solution: describe the 3 main capabilities of the agent, \"\n",
    "          \"what tools/APIs it uses, and a short flow of 4 steps. \"\n",
    "          \"Finish with KPIs that could measure success.\")\n",
    "    solution, _ = ask(p3, h)\n",
    "    display(Markdown(f\"**[3] Agentic AI Solution:**\\n\\n{solution}\\n\\n\"))\n",
    "\n",
    "    print(\"Done. Run again to explore alternative ideas.\")"
   ]
  },
  {
   "cell_type": "code",
   "execution_count": 6,
   "metadata": {},
   "outputs": [
    {
     "name": "stdout",
     "output_type": "stream",
     "text": [
      "=== Exercise: Identify an Agentic AI Business Opportunity ===\n",
      "\n"
     ]
    },
    {
     "data": {
      "text/markdown": [
       "**[1] Suggested Business Area:** Here's an interesting business area for an Agentic AI opportunity:\n",
       "\n",
       "**Domain:** Healthcare Supply Chain Management\n",
       "\n",
       "Why it matters: The healthcare industry is facing significant challenges in terms of supply chain management, including delayed shipments, stockouts, and reduced efficiency due to the complexity of inventory management amidst a high-stakes environment. An Agentic AI solution can help optimize this process by enabling real-time tracking, predictive analytics, and dynamic decision-making. By automating tasks such as order fulfillment, inventory replenishment, and shipment optimization, Agentic AI can improve patient care outcomes, reduce costs, and enhance the overall efficiency of healthcare supply chains.\n",
       "\n",
       "An agentic approach could enable an AI system to proactively analyze data, predict potential delays or disruptions, and make corrective actions in real-time. This would require advanced capabilities such as:\n",
       "\n",
       "* Integration with various healthcare supply chain systems and logistics networks\n",
       "* Ability to handle complex decision-making under uncertainty\n",
       "* Continuous learning and adaptation to changing supply chain dynamics\n",
       "\n",
       "By leveraging these capabilities, an Agentic AI solution could transform the healthcare supply chain into a more efficient, reliable, and patient-centric ecosystem.\n",
       "\n"
      ],
      "text/plain": [
       "<IPython.core.display.Markdown object>"
      ]
     },
     "metadata": {},
     "output_type": "display_data"
    },
    {
     "data": {
      "text/markdown": [
       "**[2] Pain Point:** Business Area: Healthcare Supply Chain Management\n",
       "\n",
       "The healthcare supply chain management is critical, as it ensures that medical supplies are delivered on time and in sufficient quantities to healthcare facilities, ultimately affecting the quality of patient care.\n",
       "\n",
       "Main Pain Point: \n",
       "- \"Right-time delivery\" issue, where timely delivery is a challenge causing stockout and overstocking; leading to wasted resources, decreased inventory accuracy, and delayed treatments for patients. Supply chain disruptions can lead to shortages of critical medical supplies such as gloves, masks, and other essential equipment. Successful resolution would measure itself by tracking and reducing the percentage of stockouts and overstocks.\n",
       "\n"
      ],
      "text/plain": [
       "<IPython.core.display.Markdown object>"
      ]
     },
     "metadata": {},
     "output_type": "display_data"
    },
    {
     "data": {
      "text/markdown": [
       "**[3] Agentic AI Solution:**\n",
       "\n",
       "I've chosen the business area of \"Supply Chain Optimization\" for an Agentic AI opportunity.\n",
       "\n",
       "**Why it matters:** Supply chain optimization is crucial for retailers to ensure efficient logistics, minimize costs, and meet customer demand expectations, making it a vital aspect of modern retail.\n",
       "\n",
       "**Pain point:** Efficient Load Planning for Last-Mile Delivery\n",
       "\n",
       "* Who suffers from it: Logistics companies, warehouses, delivery drivers\n",
       "* Problem: Inefficient load planning results in wasted time, increased fuel consumption, and lower driver productivity, leading to higher costs and reduced customer satisfaction.\n",
       "* Success can be measured by a 15% reduction in delivery times (95th percentile), a 12% decrease in fuel consumption, and an increase of 8% in on-time deliveries.\n",
       "\n",
       "**Agentic AI Solution:**\n",
       "\n",
       "Agent Name: Navico\n",
       "\n",
       "**Main Capabilities:**\n",
       "\n",
       "1. **Route Optimization**: Navico uses machine learning to analyze traffic patterns, route constraints, and real-time delivery data to identify the most efficient routes for drivers.\n",
       "2. **Load Allocation**: The agent optimizes load allocation based on driver skills, vehicle capacity, and time-sensitive deliveries to minimize vehicle downtime and maximize productivity.\n",
       "3. **Predictive Analytics**: Navico leverages historical data, weather forecasts, and traffic patterns to forecast demand, predict maintenance needs, and anticipate potential delivery disruptions.\n",
       "\n",
       "**Tools/APIs:**\n",
       "\n",
       "* Fleet management software integration (e.g., TMW Group, JBT)\n",
       "* Traffic forecasting APIs (e.g., HERE, TomTom)\n",
       "* Predictive analytics libraries (e.g., TensorFlow, PyTorch)\n",
       "\n",
       "**Workflow (4 steps):**\n",
       "\n",
       "1. **Data Ingestion**: Navico integrates with the logistics company's system to collect real-time data on vehicle locations, delivery schedules, and load compositions.\n",
       "2. **Route Optimization and Load Allocation**: The agent analyzes the collected data to optimize routes and allocate loads based on its capabilities.\n",
       "3. **Predictive Analytics and Real-Time Updates**: Navico continuously updates the optimized routes and allocation in real-time, taking into account changing weather conditions, traffic patterns, and other factors that may impact delivery performance.\n",
       "4. **Feedback Loop and Continuous Improvement**: The agent learns from feedback received during deliveries to refine its algorithms and optimize its recommendations.\n",
       "\n",
       "**Success Metrics (KPIs):**\n",
       "\n",
       "* Average delivery time reduction: 15%\n",
       "* Fuel consumption decrease: 12%\n",
       "* On-time delivery rate increase: 8%\n",
       "* Driver productivity gains: 10%\n",
       "\n",
       "By implementing Navico, logistics companies can enjoy significant improvements in efficiency, productivity, and customer satisfaction, making Agentic AI a compelling opportunity for supply chain optimization.\n",
       "\n"
      ],
      "text/plain": [
       "<IPython.core.display.Markdown object>"
      ]
     },
     "metadata": {},
     "output_type": "display_data"
    },
    {
     "name": "stdout",
     "output_type": "stream",
     "text": [
      "Done. Run again to explore alternative ideas.\n"
     ]
    }
   ],
   "source": [
    "main()"
   ]
  }
 ],
 "metadata": {
  "kernelspec": {
   "display_name": ".venv",
   "language": "python",
   "name": "python3"
  },
  "language_info": {
   "codemirror_mode": {
    "name": "ipython",
    "version": 3
   },
   "file_extension": ".py",
   "mimetype": "text/x-python",
   "name": "python",
   "nbconvert_exporter": "python",
   "pygments_lexer": "ipython3",
   "version": "3.12.1"
  }
 },
 "nbformat": 4,
 "nbformat_minor": 2
}
